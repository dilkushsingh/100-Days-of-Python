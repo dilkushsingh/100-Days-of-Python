{
  "cells": [
    {
      "cell_type": "markdown",
      "metadata": {
        "id": "view-in-github",
        "colab_type": "text"
      },
      "source": [
        "<a href=\"https://colab.research.google.com/github/dilkushsingh/My-Python-Learning/blob/main/1_10_Basics_Syntax%2CVariables.ipynb\" target=\"_parent\"><img src=\"https://colab.research.google.com/assets/colab-badge.svg\" alt=\"Open In Colab\"/></a>"
      ]
    },
    {
      "cell_type": "markdown",
      "metadata": {
        "id": "Gqwj0LedggSV"
      },
      "source": [
        "# 1. Introduction to Programming"
      ]
    },
    {
      "cell_type": "markdown",
      "metadata": {
        "id": "NhD7RrtqggSb"
      },
      "source": [
        "What is Programming?\n",
        "\n",
        "Just like we use Hindi or English to communicate with each other, we use a programming language like Python to communicate with the computer. Programming is a way to instruct the computer to perform various tasks.\n",
        "\n",
        "What is Python?\n",
        "\n",
        "Python is a simple and easy to understand language which feels like reading simple english. This Pseudo code nature of python makes it easy to learn and understandable by beginners.\n",
        "\n",
        "Features of Python -\n",
        "1. Easy to understand.\n",
        "2. Free and opensource.\n",
        "3. High level language.\n",
        "4. Portable.\n",
        "\n",
        "Imp-\n",
        "- Guido Van Rossum, 1989\n",
        "- dynamically typed, general purpose"
      ]
    },
    {
      "cell_type": "markdown",
      "metadata": {
        "id": "y53_CsnkggSc"
      },
      "source": [
        "# 2. Some Amazing Python Programs"
      ]
    },
    {
      "cell_type": "markdown",
      "metadata": {
        "id": "TFlqgVVIggSc"
      },
      "source": [
        " Python enables programs to be written compactly and readably. Programs written in Python are typically much shorter than equivalent C, C++, or Java programs, for several reasons:\n",
        " 1. The high-level data types allow you to express complex operations in a single statement;\n",
        " 2. statement grouping is done by indentation instead of beginning and ending brackets;\n",
        " 3. No variable or argument declarations are necessary."
      ]
    },
    {
      "cell_type": "markdown",
      "metadata": {
        "id": "1gBEGQ-2ggSd"
      },
      "source": [
        "# 3. Module and Pip"
      ]
    },
    {
      "cell_type": "markdown",
      "metadata": {
        "id": "xkU30fhEggSd"
      },
      "source": [
        "Module\n",
        "\n",
        "A Module is a file containing code written by somebody else, which can be imported and used in our programs.\n",
        "\n",
        "Pip\n",
        "\n",
        "Pip is the package manager for python. We can use Pip to install a module on our system.\n",
        "\n",
        "There are two types of module:\n",
        "  1. Built in module: Already available with python. Ex. os, time, abc, etc.\n",
        "  2. External module: We have to install them externally. Ex. NumPy, tensorflow, flask, etc."
      ]
    },
    {
      "cell_type": "markdown",
      "metadata": {
        "id": "g6_tka-rggSe"
      },
      "source": [
        "# 4. First python program"
      ]
    },
    {
      "cell_type": "code",
      "execution_count": null,
      "metadata": {
        "id": "VPT9Q21eggSe",
        "outputId": "1ca95c02-8df1-4ed6-f97f-ebc300edc7f3"
      },
      "outputs": [
        {
          "name": "stdout",
          "output_type": "stream",
          "text": [
            "Hello\n",
            "Hello World\n"
          ]
        }
      ],
      "source": [
        "greeting = '''Hello'''\n",
        "print(greeting)\n",
        "print(\"Hello World\")"
      ]
    },
    {
      "cell_type": "markdown",
      "metadata": {
        "id": "Hs_1ttzrggSg"
      },
      "source": [
        "# 5. Comments, Escape Squences and Print statement"
      ]
    },
    {
      "cell_type": "code",
      "execution_count": null,
      "metadata": {
        "id": "AvWTsibdggSh",
        "outputId": "cddd1647-372d-4f6d-b12d-7617cafdff2a"
      },
      "outputs": [
        {
          "name": "stdout",
          "output_type": "stream",
          "text": [
            "\"Hello world\"\n",
            "How are you?\n",
            "# This is not a comment because it's inside quotes.\n"
          ]
        }
      ],
      "source": [
        "# This is a single line comment\n",
        "\n",
        "\"\"\" This\n",
        "    is\n",
        "    multiline\n",
        "    comment\n",
        "\"\"\"\n",
        "\n",
        "'''\n",
        "this is\n",
        "also\n",
        "multiline\n",
        "comment\n",
        "'''\n",
        "\n",
        "text = \"# This is not a comment because it's inside quotes.\"\n",
        "\n",
        "print(\"\\\"Hello world\\\"\\nHow are you?\")\n",
        "print(text)"
      ]
    },
    {
      "cell_type": "markdown",
      "metadata": {
        "id": "XAnJ1KwZggSi"
      },
      "source": [
        "# 6. Variables and Data Types\n"
      ]
    },
    {
      "cell_type": "markdown",
      "metadata": {
        "id": "RUeyGBguggSi"
      },
      "source": [
        "Variable - A variable is name given to memory location or container to store a value.\n",
        "\n",
        "Keywords - Reserved words in Python.\n",
        "\n",
        "Identifiers - class/function/variable name.\n",
        "\n",
        "Data Types\n",
        "\n",
        "1. Integers\n",
        "2. Floating point numbers\n",
        "3. Strings\n",
        "4. Booleans\n",
        "5. None\n",
        "\n",
        "Operators\n",
        "\n",
        "1. Arithmetic +, -, *, /\n",
        "2. Assignment =, +=, -=\n",
        "3. Comparison ==, >, >=, <, !=\n",
        "4. Logical and, or, not"
      ]
    },
    {
      "cell_type": "code",
      "execution_count": null,
      "metadata": {
        "id": "xhq_iVhvggSj",
        "outputId": "d7702859-ee14-4eac-fa77-e8fa58042558"
      },
      "outputs": [
        {
          "name": "stdout",
          "output_type": "stream",
          "text": [
            "<class 'int'>\n"
          ]
        }
      ],
      "source": [
        "num = 65\n",
        "print(type(num)) # type() function returns the data type of the argument"
      ]
    },
    {
      "cell_type": "code",
      "execution_count": null,
      "metadata": {
        "id": "sr6XvttbggSj",
        "outputId": "5d091196-76d3-4795-af33-f2126d8018e3"
      },
      "outputs": [
        {
          "name": "stdout",
          "output_type": "stream",
          "text": [
            "<class 'float'>\n"
          ]
        }
      ],
      "source": [
        "float_num = 3.1415\n",
        "print(type(float_num))"
      ]
    },
    {
      "cell_type": "code",
      "execution_count": null,
      "metadata": {
        "id": "9rECi_NmggSj",
        "outputId": "766e83de-ba44-463e-a8a9-6cc1a71599e8"
      },
      "outputs": [
        {
          "name": "stdout",
          "output_type": "stream",
          "text": [
            "<class 'str'>\n"
          ]
        }
      ],
      "source": [
        "string_name = 'dilkhush'\n",
        "print(type(string_name))"
      ]
    },
    {
      "cell_type": "code",
      "execution_count": null,
      "metadata": {
        "id": "gjhoBaSEggSk",
        "outputId": "ada4f97b-5985-4387-d8c0-b407bcc2a262"
      },
      "outputs": [
        {
          "name": "stdout",
          "output_type": "stream",
          "text": [
            "<class 'list'>\n"
          ]
        }
      ],
      "source": [
        "list_marks = [34,45,49,41,38]\n",
        "print(type(list_marks))"
      ]
    },
    {
      "cell_type": "code",
      "execution_count": null,
      "metadata": {
        "id": "x2lOaIJPggSk",
        "outputId": "915369c4-a65d-4410-83dd-acfd697b8408"
      },
      "outputs": [
        {
          "name": "stdout",
          "output_type": "stream",
          "text": [
            "<class 'tuple'>\n"
          ]
        }
      ],
      "source": [
        "tuple_ages = (18,15,23,45,34)\n",
        "print(type(tuple_ages))"
      ]
    },
    {
      "cell_type": "code",
      "execution_count": null,
      "metadata": {
        "id": "E_MFynsrggSk",
        "outputId": "016ae927-731c-472e-f25f-2b994e63b266"
      },
      "outputs": [
        {
          "name": "stdout",
          "output_type": "stream",
          "text": [
            "<class 'dict'>\n"
          ]
        }
      ],
      "source": [
        "diction_sub_marks = {\"maths\":45,\"hindi\":43,\"eng\":35,\"science\":45}\n",
        "print(type(diction_sub_marks))"
      ]
    },
    {
      "cell_type": "markdown",
      "metadata": {
        "id": "RXXU-8VXggSl"
      },
      "source": [
        "# 7&8. Exercise 1 - Calculator"
      ]
    },
    {
      "cell_type": "code",
      "execution_count": null,
      "metadata": {
        "id": "xUQS00LPggSl",
        "outputId": "0a3985a2-a9bc-4e70-8ea8-7e20d5043eeb"
      },
      "outputs": [
        {
          "name": "stdout",
          "output_type": "stream",
          "text": [
            "The value of  10  +  5  =  15\n",
            "The value of  10  -  5  =  5\n",
            "The value of  10  *  5  =  50\n",
            "The value of  10  /  5  =  2.0\n",
            "The value of  10  //  5  =  2\n",
            "The value of  10  **  5  =  100000\n"
          ]
        }
      ],
      "source": [
        "a = 10\n",
        "b = 5\n",
        "\n",
        "print(\"The value of \",a,\" + \",b,\" = \",(a+b))\n",
        "print(\"The value of \",a,\" - \",b,\" = \",(a-b))\n",
        "print(\"The value of \",a,\" * \",b,\" = \",(a*b))\n",
        "print(\"The value of \",a,\" / \",b,\" = \",(a/b))\n",
        "print(\"The value of \",a,\" // \",b,\" = \",(a//b))\n",
        "print(\"The value of \",a,\" ** \",b,\" = \",(a**b))"
      ]
    },
    {
      "cell_type": "markdown",
      "metadata": {
        "id": "s19wQRk0ggSm"
      },
      "source": [
        "# 9. Typecasting"
      ]
    },
    {
      "cell_type": "code",
      "execution_count": null,
      "metadata": {
        "id": "KzW8snjHggSm",
        "outputId": "c6e0002e-cd9a-45fb-dd51-c4f6afdf27b4"
      },
      "outputs": [
        {
          "name": "stdout",
          "output_type": "stream",
          "text": [
            "13\n",
            "4\n"
          ]
        }
      ],
      "source": [
        "a = \"1\"\n",
        "b = \"3\"\n",
        "print(a+b) # Prints 13 because a and b both are strings\n",
        "a = 1\n",
        "b = 3\n",
        "print(a+b)"
      ]
    },
    {
      "cell_type": "markdown",
      "metadata": {
        "id": "OVrP0Si-ggSn"
      },
      "source": [
        "### Typecasting\n",
        "Typecasting is used to convert a datatype to another suitable datatype.\n",
        "#\n",
        "There are 2 Types:-\n",
        "1. Explicit Typecasting - Programmer have to convert by using int(), float(), str(), list(), etc."
      ]
    },
    {
      "cell_type": "code",
      "execution_count": null,
      "metadata": {
        "id": "m-ZQxu6EggSo",
        "outputId": "d4586625-ef93-4eb2-a4d4-4cd35b64df07"
      },
      "outputs": [
        {
          "data": {
            "text/plain": [
              "4"
            ]
          },
          "execution_count": 15,
          "metadata": {},
          "output_type": "execute_result"
        }
      ],
      "source": [
        "a = \"1\"\n",
        "b = \"3\"\n",
        "int(a)+int(b)"
      ]
    },
    {
      "cell_type": "markdown",
      "metadata": {
        "id": "qd7BvZnRggSp"
      },
      "source": [
        "2. Implicit Typecasting - Python interpreter automatically converts the datatypes into required datatype."
      ]
    },
    {
      "cell_type": "code",
      "execution_count": null,
      "metadata": {
        "id": "yy-jD3A0ggSp",
        "outputId": "822c9c40-5985-4ffb-c300-4e76e3d2abd6"
      },
      "outputs": [
        {
          "data": {
            "text/plain": [
              "3.9"
            ]
          },
          "execution_count": 16,
          "metadata": {},
          "output_type": "execute_result"
        }
      ],
      "source": [
        "c = 1.9\n",
        "d = 2\n",
        "c+d"
      ]
    },
    {
      "cell_type": "markdown",
      "metadata": {
        "id": "2hKIiQdmggSp"
      },
      "source": [
        "# 10. Taking User Input"
      ]
    },
    {
      "cell_type": "markdown",
      "metadata": {
        "id": "2u43IIwdggSq"
      },
      "source": [
        "#### User Input\n",
        "- In python, input from user is taken with the help of in built input() function."
      ]
    },
    {
      "cell_type": "code",
      "execution_count": null,
      "metadata": {
        "id": "WYvHG_LIggSq",
        "outputId": "28c0a3ad-dccb-4a78-c0b0-bfc5ca55904d"
      },
      "outputs": [
        {
          "name": "stdout",
          "output_type": "stream",
          "text": [
            "Your name is Dilkhush\n"
          ]
        }
      ],
      "source": [
        "name = input()\n",
        "print(\"Your name is\",name)"
      ]
    },
    {
      "cell_type": "code",
      "execution_count": null,
      "metadata": {
        "id": "1ilALaSyggSq",
        "outputId": "e9644310-4c6a-4707-c943-f21ed4f28364"
      },
      "outputs": [
        {
          "name": "stdout",
          "output_type": "stream",
          "text": [
            "Sum of 223684328 and 356442764 is 580127092\n"
          ]
        }
      ],
      "source": [
        "num1 = input(\"first num > \")\n",
        "num2 = input(\"second num > \")\n",
        "num1 = int(num1) # Explicit typecasting from string to int\n",
        "num2 = int(num2)\n",
        "print(f\"Sum of {num1} and {num2} is {num1+num2}\")"
      ]
    }
  ],
  "metadata": {
    "kernelspec": {
      "display_name": "Python 3 (ipykernel)",
      "language": "python",
      "name": "python3"
    },
    "language_info": {
      "codemirror_mode": {
        "name": "ipython",
        "version": 3
      },
      "file_extension": ".py",
      "mimetype": "text/x-python",
      "name": "python",
      "nbconvert_exporter": "python",
      "pygments_lexer": "ipython3",
      "version": "3.11.2"
    },
    "vscode": {
      "interpreter": {
        "hash": "5238573367df39f7286bb46f9ff5f08f63a01a80960060ce41e3c79b190280fa"
      }
    },
    "colab": {
      "provenance": [],
      "include_colab_link": true
    }
  },
  "nbformat": 4,
  "nbformat_minor": 0
}