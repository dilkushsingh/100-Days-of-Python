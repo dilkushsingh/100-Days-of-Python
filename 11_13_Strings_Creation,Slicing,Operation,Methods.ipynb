{
  "cells": [
    {
      "cell_type": "markdown",
      "metadata": {
        "id": "view-in-github",
        "colab_type": "text"
      },
      "source": [
        "<a href=\"https://colab.research.google.com/github/dilkushsingh/My-Python-Learning/blob/main/11_13_Strings_Creation%2CSlicing%2COperation%2CMethods.ipynb\" target=\"_parent\"><img src=\"https://colab.research.google.com/assets/colab-badge.svg\" alt=\"Open In Colab\"/></a>"
      ]
    },
    {
      "cell_type": "markdown",
      "id": "1b5e53b2",
      "metadata": {
        "id": "1b5e53b2"
      },
      "source": [
        "# 11. Strings"
      ]
    },
    {
      "cell_type": "markdown",
      "id": "bc0479c0",
      "metadata": {
        "id": "bc0479c0"
      },
      "source": [
        "Anything in between double or single quotes is string. Now also between triple-single quotes is also string.\n",
        "\n",
        "Note - strings are immutable means they can't be changed or updated after they created."
      ]
    },
    {
      "cell_type": "code",
      "execution_count": null,
      "id": "d99731fb",
      "metadata": {
        "id": "d99731fb",
        "outputId": "6036b5ba-5d1b-4b71-818d-1cf75dddeee5"
      },
      "outputs": [
        {
          "data": {
            "text/plain": [
              "'\"Yes,\" they said.'"
            ]
          },
          "execution_count": 1,
          "metadata": {},
          "output_type": "execute_result"
        }
      ],
      "source": [
        "# Python automatically converts strings single or double quotes according to it\n",
        "\n",
        "'spam eggs' #'spam eggs' -Remains same\n",
        "'doesn\\'t'  #\"doesn't\"\n",
        "\"doesn't\"   #\"doesn't\"\n",
        "'\"Yes,\" they said'  #'\"Yes,\" they said'\n",
        "\"\\\"Yes,\\\" they said.\"   #'\"Yes,\" they said.'"
      ]
    },
    {
      "cell_type": "code",
      "execution_count": null,
      "id": "5d4c5bfa",
      "metadata": {
        "id": "5d4c5bfa",
        "outputId": "8a33a21e-5493-4d3a-fc8f-ab7f7cf82769"
      },
      "outputs": [
        {
          "data": {
            "text/plain": [
              "'Python'"
            ]
          },
          "execution_count": 2,
          "metadata": {},
          "output_type": "execute_result"
        }
      ],
      "source": [
        "'Py' 'thon' # Python automatically joins strings"
      ]
    },
    {
      "cell_type": "code",
      "execution_count": null,
      "id": "8cf70bc6",
      "metadata": {
        "id": "8cf70bc6",
        "outputId": "f0d97d7d-54e4-42c1-c284-d52f8844799d"
      },
      "outputs": [
        {
          "name": "stdout",
          "output_type": "stream",
          "text": [
            "Your name is \"Dilkhush\"\n"
          ]
        },
        {
          "data": {
            "text/plain": [
              "'D'"
            ]
          },
          "execution_count": 5,
          "metadata": {},
          "output_type": "execute_result"
        }
      ],
      "source": [
        "name = \"Dilkhush\"\n",
        "print('Your name is \"Dilkhush\"')\n",
        "name[0]"
      ]
    },
    {
      "cell_type": "code",
      "execution_count": null,
      "id": "25feee74",
      "metadata": {
        "id": "25feee74",
        "outputId": "597238f0-680d-4068-a0bf-6d5c16193257"
      },
      "outputs": [
        {
          "data": {
            "text/plain": [
              "'h'"
            ]
          },
          "execution_count": 6,
          "metadata": {},
          "output_type": "execute_result"
        }
      ],
      "source": [
        "name[7]"
      ]
    },
    {
      "cell_type": "code",
      "execution_count": null,
      "id": "bdb15b12",
      "metadata": {
        "id": "bdb15b12"
      },
      "outputs": [],
      "source": [
        "#name[8]  - throws out of index error"
      ]
    },
    {
      "cell_type": "code",
      "execution_count": null,
      "id": "31353dc5",
      "metadata": {
        "id": "31353dc5",
        "outputId": "0cb65ca7-5b83-4cd7-b869-34a0c69414d2"
      },
      "outputs": [
        {
          "name": "stdout",
          "output_type": "stream",
          "text": [
            "H\n",
            "e\n",
            "l\n",
            "l\n",
            "o\n",
            ",\n",
            " \n",
            "h\n",
            "o\n",
            "w\n",
            " \n",
            "a\n",
            "r\n",
            "e\n",
            " \n",
            "y\n",
            "o\n",
            "u\n",
            "?\n"
          ]
        }
      ],
      "source": [
        "#We can also use for loop to traversing in a string.\n",
        "string = \"Hello, how are you?\"\n",
        "\n",
        "for i in string:\n",
        "    print(i)"
      ]
    },
    {
      "cell_type": "code",
      "execution_count": null,
      "id": "904de141",
      "metadata": {
        "id": "904de141",
        "outputId": "c83a5b35-fa58-4845-c931-6becc571ddf9"
      },
      "outputs": [
        {
          "name": "stdout",
          "output_type": "stream",
          "text": [
            "Hello, how are you?"
          ]
        }
      ],
      "source": [
        "# But if we want to print all of them in one line then we can do this\n",
        "for i in string:\n",
        "    print(i,end=\"\")"
      ]
    },
    {
      "cell_type": "markdown",
      "id": "2b88aaf3",
      "metadata": {
        "id": "2b88aaf3"
      },
      "source": [
        "# 12. String Slicing and Operation"
      ]
    },
    {
      "cell_type": "code",
      "execution_count": null,
      "id": "a3b8ef89",
      "metadata": {
        "id": "a3b8ef89",
        "outputId": "703ff1aa-8292-45df-af69-494ee31036f8"
      },
      "outputs": [
        {
          "name": "stdout",
          "output_type": "stream",
          "text": [
            "8\n",
            "Dilkh\n",
            "Dilkhush\n",
            "Dilkh\n",
            "hu\n"
          ]
        }
      ],
      "source": [
        "name = \"Dilkhush\"\n",
        "print(len(name))\n",
        "print(name[0:5])\n",
        "print(name[0:9])\n",
        "print(name[0:-3])\n",
        "print(name[-4:-2])"
      ]
    },
    {
      "cell_type": "markdown",
      "id": "d68cf4b2",
      "metadata": {
        "id": "d68cf4b2"
      },
      "source": [
        "# 13. String Methods"
      ]
    },
    {
      "cell_type": "code",
      "execution_count": null,
      "id": "dedf423c",
      "metadata": {
        "id": "dedf423c",
        "outputId": "918cc767-4b56-4295-9e7c-336025b19c91"
      },
      "outputs": [
        {
          "name": "stdout",
          "output_type": "stream",
          "text": [
            "8\n"
          ]
        }
      ],
      "source": [
        "# strings are immutable\n",
        "a = \"Dilkhush\"\n",
        "print(len(a))\n",
        "#   a[0]=\"B\"  TypeError: 'str' object does not support item assignment"
      ]
    },
    {
      "cell_type": "code",
      "execution_count": null,
      "id": "5871732b",
      "metadata": {
        "id": "5871732b",
        "outputId": "3369d716-961e-40e3-86c2-7b24d08923f4"
      },
      "outputs": [
        {
          "name": "stdout",
          "output_type": "stream",
          "text": [
            "DILKHUSH\n",
            "Dilkhush\n"
          ]
        }
      ],
      "source": [
        "\"\"\"str.upper()\n",
        "    This method creates a new string with uppercase\n",
        "\"\"\"\n",
        "print(a.upper())\n",
        "print(a)"
      ]
    },
    {
      "cell_type": "code",
      "execution_count": null,
      "id": "5576ca61",
      "metadata": {
        "id": "5576ca61",
        "outputId": "b334ce9e-28d0-43bd-d16a-e0732e7b98e4"
      },
      "outputs": [
        {
          "name": "stdout",
          "output_type": "stream",
          "text": [
            "dilkhush\n"
          ]
        }
      ],
      "source": [
        "\"\"\"str.lower()\n",
        "    This method creates a new string with lowercase\n",
        "\"\"\"\n",
        "print(a.lower())"
      ]
    },
    {
      "cell_type": "code",
      "execution_count": null,
      "id": "338c9afe",
      "metadata": {
        "id": "338c9afe",
        "outputId": "c3630f43-c46c-4fad-c60a-907e1e5b620b"
      },
      "outputs": [
        {
          "data": {
            "text/plain": [
              "'Hello, How Are You'"
            ]
          },
          "execution_count": 21,
          "metadata": {},
          "output_type": "execute_result"
        }
      ],
      "source": [
        "\"\"\"str.swapcase()\n",
        "    Changes the characters casing of the string Uppercase to lowercase and vice-versa.\n",
        "\"\"\"\n",
        "lets_swap = \"hELLO, hOW aRE yOU\"\n",
        "lets_swap.swapcase()"
      ]
    },
    {
      "cell_type": "code",
      "execution_count": null,
      "id": "6b240c32",
      "metadata": {
        "id": "6b240c32",
        "outputId": "0467b126-047c-42b3-9fc3-6b7e078ef337"
      },
      "outputs": [
        {
          "data": {
            "text/plain": [
              "'Dilkhush singh'"
            ]
          },
          "execution_count": 22,
          "metadata": {},
          "output_type": "execute_result"
        }
      ],
      "source": [
        "\"\"\"str.capitalize()\n",
        "    This method changes the first character of the string to uppercase. Also changes remaining characters into\\\n",
        "    lowercase.\n",
        "\"\"\"\n",
        "str = \"dilkhush Singh\"\n",
        "str.capitalize()"
      ]
    },
    {
      "cell_type": "code",
      "execution_count": null,
      "id": "ef8ac099",
      "metadata": {
        "id": "ef8ac099",
        "outputId": "1aece2da-3ecc-4fde-b107-7cef426e7f6c"
      },
      "outputs": [
        {
          "data": {
            "text/plain": [
              "'Hey'"
            ]
          },
          "execution_count": 23,
          "metadata": {},
          "output_type": "execute_result"
        }
      ],
      "source": [
        "\"\"\"str.rstrip()\n",
        "    This method removes any trailing(repeating) characters.\n",
        "\"\"\"\n",
        "str1 = \"Hey!!!!!\"\n",
        "str1.rstrip(\"!\")"
      ]
    },
    {
      "cell_type": "code",
      "execution_count": null,
      "id": "13d4eb0f",
      "metadata": {
        "id": "13d4eb0f",
        "outputId": "71b2cf6d-9162-4d29-ec43-b5068f434772"
      },
      "outputs": [
        {
          "data": {
            "text/plain": [
              "'Hey!!!!Hey'"
            ]
          },
          "execution_count": 24,
          "metadata": {},
          "output_type": "execute_result"
        }
      ],
      "source": [
        "\"\"\"str.replace()\n",
        "    This method replaces all occurence of a string with another string\n",
        "\"\"\"\n",
        "str2 = \"Hello!!!!Hello\"\n",
        "str2.replace(\"Hello\",\"Hey\")"
      ]
    },
    {
      "cell_type": "code",
      "execution_count": null,
      "id": "70b5deda",
      "metadata": {
        "id": "70b5deda",
        "outputId": "2b8dd015-e5d0-4101-cc35-b0750ca98139"
      },
      "outputs": [
        {
          "data": {
            "text/plain": [
              "\"My Name Is Dilkhush. I'M Learning Python\""
            ]
          },
          "execution_count": 10,
          "metadata": {},
          "output_type": "execute_result"
        }
      ],
      "source": [
        "\"\"\"str.title()\n",
        "    Captialize first letter of each word of string.\n",
        "\"\"\"\n",
        "title1 = \"My name is Dilkhush. i'm learning python\"\n",
        "title1.title()"
      ]
    },
    {
      "cell_type": "code",
      "execution_count": null,
      "id": "bcb20ed4",
      "metadata": {
        "id": "bcb20ed4",
        "outputId": "eb33e62d-db67-40b1-838f-9732b32913c2"
      },
      "outputs": [
        {
          "name": "stdout",
          "output_type": "stream",
          "text": [
            "['Hello', ' How are you?', ' what are you doing?']\n"
          ]
        },
        {
          "data": {
            "text/plain": [
              "list"
            ]
          },
          "execution_count": 12,
          "metadata": {},
          "output_type": "execute_result"
        }
      ],
      "source": [
        "\"\"\"str.split()\n",
        "    This methods splits the string into list whenever the given parameter comes.\n",
        "\"\"\"\n",
        "str3 = \"Hello, How are you?, what are you doing?\"\n",
        "print(str3.split(\",\"))\n",
        "type(str3.split(\",\"))"
      ]
    },
    {
      "cell_type": "code",
      "execution_count": null,
      "id": "a64b003f",
      "metadata": {
        "id": "a64b003f",
        "outputId": "c9f44051-20dc-49fc-93ab-4b52442b78a0"
      },
      "outputs": [
        {
          "data": {
            "text/plain": [
              "'     Hello, How are you?, what are you doing?     '"
            ]
          },
          "execution_count": 22,
          "metadata": {},
          "output_type": "execute_result"
        }
      ],
      "source": [
        "\"\"\"str.center()\n",
        "    Aligns the string to the center as per the parameters given by the user.\n",
        "\"\"\"\n",
        "str3.center(50)"
      ]
    },
    {
      "cell_type": "code",
      "execution_count": null,
      "id": "92ccf28c",
      "metadata": {
        "id": "92ccf28c",
        "outputId": "b58cd16e-a485-4be6-a60e-056834b907e5"
      },
      "outputs": [
        {
          "data": {
            "text/plain": [
              "2"
            ]
          },
          "execution_count": 25,
          "metadata": {},
          "output_type": "execute_result"
        }
      ],
      "source": [
        "\"\"\"str.count()\n",
        "    Returns the number of times the given value has occured within the given string.\n",
        "\"\"\"\n",
        "str3.count(\"H\")"
      ]
    },
    {
      "cell_type": "code",
      "execution_count": null,
      "id": "2ae31281",
      "metadata": {
        "id": "2ae31281",
        "outputId": "1b273615-af93-4945-cfa3-612238db9f2f"
      },
      "outputs": [
        {
          "name": "stdout",
          "output_type": "stream",
          "text": [
            "True\n",
            "True\n"
          ]
        }
      ],
      "source": [
        "\"\"\"str.endswith()\n",
        "    This method checks if the string ends with a given value. If yes then return True, else return False.\n",
        "\"\"\"\n",
        "str4 = \"Hello Guys, How are you all\"\n",
        "print(str4.endswith(\"all\"))\n",
        "\n",
        "#   We can also use it in sliced string\n",
        "\n",
        "print(str4.endswith(\"ys\",4,10))\n",
        "\n",
        "#str.startswith() method also works same like this.\n"
      ]
    },
    {
      "cell_type": "code",
      "execution_count": null,
      "id": "f3267bac",
      "metadata": {
        "id": "f3267bac",
        "outputId": "51c59449-1e8d-4d88-8489-262657c86d0d"
      },
      "outputs": [
        {
          "data": {
            "text/plain": [
              "13"
            ]
          },
          "execution_count": 27,
          "metadata": {},
          "output_type": "execute_result"
        }
      ],
      "source": [
        "\"\"\"str.find()\n",
        "    This method checks for given sub string in string and also returns the first index of occurence. If \\\n",
        "    not found then it return -1\n",
        "\"\"\"\n",
        "\n",
        "str4.find(\"ow\")"
      ]
    },
    {
      "cell_type": "code",
      "execution_count": null,
      "id": "9f644b44",
      "metadata": {
        "id": "9f644b44",
        "outputId": "a0b7d907-fb45-40e8-9a04-92a56acb6419"
      },
      "outputs": [
        {
          "data": {
            "text/plain": [
              "'str.index()\\n    \\n'"
            ]
          },
          "execution_count": 26,
          "metadata": {},
          "output_type": "execute_result"
        }
      ],
      "source": [
        "\"\"\"str.index()\n",
        "\n",
        "\"\"\""
      ]
    },
    {
      "cell_type": "code",
      "execution_count": null,
      "id": "a3f602ad",
      "metadata": {
        "id": "a3f602ad",
        "outputId": "5ad99bf9-21db-4ad9-e4bb-2b2eeb70878d"
      },
      "outputs": [
        {
          "name": "stdout",
          "output_type": "stream",
          "text": [
            "True\n",
            "False\n"
          ]
        }
      ],
      "source": [
        "\"\"\"str.isalpha()\n",
        "    Returns True if entire string is consist of A-Z and a-z. If any other character, punctuations or numbers(0-9)\\\n",
        "    are present, then it returns False\n",
        "\"\"\"\n",
        "alpha = \"afsfgDS\"\n",
        "print(alpha.isalpha())\n",
        "not_alpha = \"afdfg4 5dfg.\"\n",
        "print((not_alpha.isalpha()))"
      ]
    },
    {
      "cell_type": "code",
      "execution_count": null,
      "id": "3526b4a7",
      "metadata": {
        "id": "3526b4a7",
        "outputId": "653facb4-3731-40a0-9445-8eebe43f0832"
      },
      "outputs": [
        {
          "name": "stdout",
          "output_type": "stream",
          "text": [
            "True\n",
            "False\n"
          ]
        }
      ],
      "source": [
        "\"\"\"str.isalnum()\n",
        "    Returns True if entire string only consists of A-Z, a-z, 0-9. If space is present it returns False.\n",
        "\"\"\"\n",
        "str5 = \"af4432DS\"\n",
        "print(str5.isalnum())\n",
        "str6 = \"affg aasdf\"\n",
        "print(str6.isalnum())"
      ]
    },
    {
      "cell_type": "code",
      "execution_count": null,
      "id": "b22a62fb",
      "metadata": {
        "id": "b22a62fb",
        "outputId": "0c139978-9102-405e-cb44-fc1445551b9e"
      },
      "outputs": [
        {
          "name": "stdout",
          "output_type": "stream",
          "text": [
            "True\n"
          ]
        }
      ],
      "source": [
        "\"\"\"str.islower()\n",
        "    Returns True if all characters in lower case.\n",
        "\"\"\"\n",
        "str7 = \"hello world\"\n",
        "print(str7.islower())"
      ]
    },
    {
      "cell_type": "code",
      "execution_count": null,
      "id": "1cac597f",
      "metadata": {
        "id": "1cac597f",
        "outputId": "82e40c0f-eb10-46f9-d0ca-58ba6a9cf11a"
      },
      "outputs": [
        {
          "data": {
            "text/plain": [
              "True"
            ]
          },
          "execution_count": 30,
          "metadata": {},
          "output_type": "execute_result"
        }
      ],
      "source": [
        "\"\"\"str.istitle()\n",
        "    Returns True only if the first letter of each word of string is capitalized.\n",
        "\"\"\"\n",
        "title = \"This Is A Title\"\n",
        "title.istitle()"
      ]
    }
  ],
  "metadata": {
    "kernelspec": {
      "display_name": "Python 3",
      "language": "python",
      "name": "python3"
    },
    "language_info": {
      "codemirror_mode": {
        "name": "ipython",
        "version": 3
      },
      "file_extension": ".py",
      "mimetype": "text/x-python",
      "name": "python",
      "nbconvert_exporter": "python",
      "pygments_lexer": "ipython3",
      "version": "3.11.2"
    },
    "vscode": {
      "interpreter": {
        "hash": "5238573367df39f7286bb46f9ff5f08f63a01a80960060ce41e3c79b190280fa"
      }
    },
    "colab": {
      "provenance": [],
      "include_colab_link": true
    }
  },
  "nbformat": 4,
  "nbformat_minor": 5
}