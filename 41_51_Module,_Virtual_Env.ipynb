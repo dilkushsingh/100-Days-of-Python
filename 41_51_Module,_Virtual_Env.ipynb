{
  "cells": [
    {
      "cell_type": "markdown",
      "metadata": {
        "id": "view-in-github",
        "colab_type": "text"
      },
      "source": [
        "<a href=\"https://colab.research.google.com/github/dilkushsingh/My-Python-Learning/blob/main/41_51_Module%2C_Virtual_Env.ipynb\" target=\"_parent\"><img src=\"https://colab.research.google.com/assets/colab-badge.svg\" alt=\"Open In Colab\"/></a>"
      ]
    },
    {
      "cell_type": "markdown",
      "metadata": {
        "id": "Oif2GvY6xtSn"
      },
      "source": [
        "# 41. Short hand if else\n",
        "result = value_if_true if condition else value_if_false"
      ]
    },
    {
      "cell_type": "code",
      "execution_count": null,
      "metadata": {
        "id": "qNdFAvw9xtS0",
        "outputId": "269811f6-14b1-4feb-ee04-001ab7fc88ed"
      },
      "outputs": [
        {
          "name": "stdout",
          "output_type": "stream",
          "text": [
            "B\n"
          ]
        }
      ],
      "source": [
        "a = 330\n",
        "b = 3303\n",
        "print(\"A\") if a > b else print(\"=\") if a == b else print(\"B\")"
      ]
    },
    {
      "cell_type": "markdown",
      "metadata": {
        "id": "eqqeMzYDxtS4"
      },
      "source": [
        "# 42. Enumerate Function"
      ]
    },
    {
      "cell_type": "markdown",
      "metadata": {
        "id": "-59Xf1AxxtS4"
      },
      "source": [
        "The enumerate function is a built in function in Python that allows you to loop over a sequence(such as a list, tuple or string) and get the index and value of each element in the sequence at the same time."
      ]
    },
    {
      "cell_type": "code",
      "execution_count": null,
      "metadata": {
        "id": "fsQrrO_AxtS5",
        "outputId": "cb0c16b1-049d-4eb5-ed83-ee7bc8041766"
      },
      "outputs": [
        {
          "name": "stdout",
          "output_type": "stream",
          "text": [
            "34\n",
            "33\n",
            "74\n",
            "23\n",
            "Awesome!\n",
            "1\n",
            "45\n",
            "67\n",
            "98\n"
          ]
        }
      ],
      "source": [
        "marks = [34, 33, 74, 23, 1, 45, 67, 98]\n",
        "\n",
        "index = 0\n",
        "for mark in marks:\n",
        "    print(mark)\n",
        "    if(index == 3):\n",
        "        print(\"Awesome!\")\n",
        "    index += 1"
      ]
    },
    {
      "cell_type": "code",
      "execution_count": null,
      "metadata": {
        "id": "TM_aE5dTxtS6",
        "outputId": "5b51425a-9cb0-4978-8330-e6d095539c49"
      },
      "outputs": [
        {
          "name": "stdout",
          "output_type": "stream",
          "text": [
            "34\n",
            "33\n",
            "74\n",
            "23\n",
            "Awesome!\n",
            "1\n",
            "45\n",
            "67\n",
            "98\n"
          ]
        }
      ],
      "source": [
        "for index, mark in enumerate(marks):\n",
        "    print(mark)\n",
        "    if(index == 3):\n",
        "        print(\"Awesome!\")\n"
      ]
    },
    {
      "cell_type": "markdown",
      "metadata": {
        "id": "QYqLP39fxtS7"
      },
      "source": [
        "# 43. Virtual Enviroment"
      ]
    },
    {
      "cell_type": "markdown",
      "metadata": {
        "id": "W8FuW11DxtS9"
      },
      "source": [
        "A virtual enviroment is a tool used to isolate specific Python enviroments on a single machine. allowing you to work on multiple projects with different dependencies and packages without conflicts."
      ]
    },
    {
      "cell_type": "code",
      "execution_count": null,
      "metadata": {
        "id": "Oz8zMY5dxtS-",
        "outputId": "b2a47e88-2842-4b1c-ebf3-c6988d78b370"
      },
      "outputs": [
        {
          "ename": "SyntaxError",
          "evalue": "invalid syntax (672857445.py, line 2)",
          "output_type": "error",
          "traceback": [
            "\u001b[1;36m  Cell \u001b[1;32mIn[4], line 2\u001b[1;36m\u001b[0m\n\u001b[1;33m    python -m venv myenv\u001b[0m\n\u001b[1;37m              ^\u001b[0m\n\u001b[1;31mSyntaxError\u001b[0m\u001b[1;31m:\u001b[0m invalid syntax\n"
          ]
        }
      ],
      "source": [
        "# Create a virtual enviroment\n",
        "python -m venv myenv\n",
        "\n",
        "# Activate the virtual enviroment\n",
        "myenv\\Scripts\\activate.bat\n",
        "\n",
        "# Deactivate the virtual enviroment\n",
        "deactivate"
      ]
    },
    {
      "cell_type": "code",
      "execution_count": null,
      "metadata": {
        "id": "y3VAzNWxxtTA",
        "outputId": "4056f0ad-2f4b-403c-8691-49234105657b"
      },
      "outputs": [
        {
          "data": {
            "text/plain": [
              "'2.0.0'"
            ]
          },
          "execution_count": 1,
          "metadata": {},
          "output_type": "execute_result"
        }
      ],
      "source": [
        "import pandas as pd\n",
        "pd.__version__"
      ]
    },
    {
      "cell_type": "code",
      "execution_count": null,
      "metadata": {
        "id": "1h43eyuGxtTB"
      },
      "outputs": [],
      "source": [
        "# the \"requirements.txt\" file\n",
        "# requirements.txt file lists the packages and their versions that our project depends on.\n",
        "\n",
        "# Output the list of installed packages and their versions to a file\n",
        "pip freeze > requirements.txt\n",
        "\n",
        "# Install the packages listed in the requirements.txt file\n",
        "pip install -r requirements.txt"
      ]
    },
    {
      "cell_type": "markdown",
      "metadata": {
        "id": "ZWAghGw4xtTC"
      },
      "source": [
        "# 44. How import works"
      ]
    },
    {
      "cell_type": "markdown",
      "metadata": {
        "id": "0w2ULeL1xtTC"
      },
      "source": [
        "Importing in python is the process of loading code from a python module into the current script. This allow us to use the functions and variables defined in the module in our current script."
      ]
    },
    {
      "cell_type": "code",
      "execution_count": null,
      "metadata": {
        "id": "ypN4HUL-xtTD"
      },
      "outputs": [],
      "source": [
        "# import the package\n",
        "import math\n",
        "\n",
        "# import specific functions\n",
        "from math import sqrt,pi\n",
        "\n",
        "#import all function\n",
        "from math import *"
      ]
    },
    {
      "cell_type": "code",
      "execution_count": null,
      "metadata": {
        "id": "MsqRzVfQxtTE",
        "outputId": "91008bf1-587c-4d34-d222-bc9ef0689cef"
      },
      "outputs": [
        {
          "ename": "ModuleNotFoundError",
          "evalue": "No module named 'tensorflow'",
          "output_type": "error",
          "traceback": [
            "\u001b[1;31m---------------------------------------------------------------------------\u001b[0m",
            "\u001b[1;31mModuleNotFoundError\u001b[0m                       Traceback (most recent call last)",
            "Cell \u001b[1;32mIn[6], line 2\u001b[0m\n\u001b[0;32m      1\u001b[0m \u001b[39m# as keyword simplifies the complex naming of modules and functions\u001b[39;00m\n\u001b[1;32m----> 2\u001b[0m \u001b[39mimport\u001b[39;00m \u001b[39mtensorflow\u001b[39;00m \u001b[39mas\u001b[39;00m \u001b[39mtf\u001b[39;00m \u001b[39m# throws error because tensorflow is not a built in module\u001b[39;00m\n\u001b[0;32m      4\u001b[0m \u001b[39m# dir function\u001b[39;00m\n\u001b[0;32m      5\u001b[0m \u001b[39m# Python has built in function called dir that we can use to view the names of all the functions and variables defined in a module.\u001b[39;00m\n\u001b[0;32m      6\u001b[0m \u001b[39mimport\u001b[39;00m \u001b[39mmath\u001b[39;00m\n",
            "\u001b[1;31mModuleNotFoundError\u001b[0m: No module named 'tensorflow'"
          ]
        }
      ],
      "source": [
        "# as keyword simplifies the complex naming of modules and functions\n",
        "import tensorflow as tf # throws error because tensorflow is not a built in module\n",
        "\n",
        "# dir function\n",
        "# Python has built in function called dir that we can use to view the names of all the functions and variables defined in a module.\n",
        "import math\n",
        "print(dir(math))"
      ]
    },
    {
      "cell_type": "markdown",
      "metadata": {
        "id": "tj87jVx_xtTE"
      },
      "source": [
        "# 45. if name == main"
      ]
    },
    {
      "cell_type": "markdown",
      "metadata": {
        "id": "thnhgAokxtTE"
      },
      "source": [
        "The if __name__ == \"__main__\" idiom is a common pattern, used in python scripts to determine whether the script is being run directly or being imported as a module into another project.\n",
        "#\n",
        "In Python, the __name__ variable is a built-in variable that is automatically set to the name of the current module. When a Python script is run directly, the __name__ variable is set to the string __main__ When the script is imported as a module into another script, the __name__ variable is set to the name of the module."
      ]
    },
    {
      "cell_type": "code",
      "execution_count": null,
      "metadata": {
        "id": "xQrcjOZkxtTF",
        "outputId": "dd8ee78e-f1a9-4fa7-b3cc-e69a7781bcec"
      },
      "outputs": [
        {
          "name": "stdout",
          "output_type": "stream",
          "text": [
            "Hey you are welcome\n"
          ]
        }
      ],
      "source": [
        "import greeting\n",
        "greeting.welcome()\n"
      ]
    },
    {
      "cell_type": "markdown",
      "metadata": {
        "id": "js1u8Ft2xtTF"
      },
      "source": [
        "# 46. OS module"
      ]
    },
    {
      "cell_type": "markdown",
      "metadata": {
        "id": "3ziKD6kzxtTF"
      },
      "source": [
        "The OS module in python is a built-in library that provides functions for interacting with the operating system. Used for wide range of tasks such as reading and writing files."
      ]
    },
    {
      "cell_type": "code",
      "execution_count": null,
      "metadata": {
        "id": "A6h5E6gwxtTF"
      },
      "outputs": [],
      "source": [
        "import os\n",
        "os.mkdir(\"files\")"
      ]
    },
    {
      "cell_type": "markdown",
      "metadata": {
        "id": "8b2mMgqzxtTG"
      },
      "source": [
        "# 47. Exercise 4 - Solution"
      ]
    },
    {
      "cell_type": "code",
      "execution_count": null,
      "metadata": {
        "id": "z424WYiixtTG",
        "outputId": "77d56d27-910a-4344-8c3f-c2c8270673d8"
      },
      "outputs": [
        {
          "name": "stdout",
          "output_type": "stream",
          "text": [
            "hello hw r u\n"
          ]
        }
      ],
      "source": [
        "str = input(\"Enter the string>\")\n",
        "opr = input(\"1 for coding and 0 for decoding>\")\n",
        "opr = True if (opr==\"1\") else False\n",
        "words = str.split(\" \")\n",
        "\n",
        "if(opr):\n",
        "    coded = []\n",
        "    for word in words:\n",
        "        if(len(word)>=3):\n",
        "            str1 = \"sdf\"\n",
        "            str2 = \"kgh\"\n",
        "            stnew = str1 + word[1:] + word[0] + str2\n",
        "            coded.append(stnew)\n",
        "        else:\n",
        "            coded.append(word[::-1])\n",
        "    print(\" \".join(coded))\n",
        "else:\n",
        "    decoded = []\n",
        "    for word in words:\n",
        "        if(len(word)>=3):\n",
        "            stnew = word[3:-3]\n",
        "            stnew = stnew[-1]+stnew[:-1]\n",
        "            decoded.append(stnew)\n",
        "        else:\n",
        "            decoded.append(word[::-1])\n",
        "    print(\" \".join(decoded))"
      ]
    },
    {
      "cell_type": "markdown",
      "metadata": {
        "id": "i3BKRkT3xtTG"
      },
      "source": [
        "# 48. Local vs Global variables"
      ]
    },
    {
      "cell_type": "code",
      "execution_count": null,
      "metadata": {
        "id": "VhdF4UN0xtTH",
        "outputId": "7a61fe29-a1fb-4e61-99a2-1cf0bcbd1beb"
      },
      "outputs": [
        {
          "name": "stdout",
          "output_type": "stream",
          "text": [
            "global x is 4\n",
            "local x if 5\n"
          ]
        }
      ],
      "source": [
        "x = 4\n",
        "print(f\"global x is {x}\")\n",
        "\n",
        "def hello():\n",
        "    x = 5\n",
        "    print(f\"local x if {x}\")\n",
        "\n",
        "hello()"
      ]
    },
    {
      "cell_type": "markdown",
      "metadata": {
        "id": "2elPRqjjxtTH"
      },
      "source": [
        "# 49. File IO\n"
      ]
    },
    {
      "cell_type": "markdown",
      "metadata": {
        "id": "ItrX0Q2uxtTH"
      },
      "source": [
        "Python provides the open() function to open a file. It takes two arguments: the name of the file and the mode in which the file should be opened.\n",
        "\n",
        "Exa. f = open('myfile.txt','r')\n",
        "\n",
        "### Modes\n",
        "1. read (r) - reading only, error if file not exist. default.\n",
        "2. write (w) - writing only, creates new file if not exist.\n",
        "3. append (a) - data written is added to end, creates new file if not exist.\n",
        "4. text (t) - used to handle text file\n",
        "5. binary (b) - used to handle binary files(images, pdf, etc.)\n",
        "6. r+ opens the file for both reading and writing."
      ]
    },
    {
      "cell_type": "code",
      "execution_count": null,
      "metadata": {
        "id": "mZPn-QEJxtTH",
        "outputId": "e4769d34-f0b3-4fd3-d262-074e96f8da3e"
      },
      "outputs": [
        {
          "name": "stdout",
          "output_type": "stream",
          "text": [
            "Hello wo\n"
          ]
        }
      ],
      "source": [
        "# reading the file\n",
        "f = open(\"myfile.txt\",'r')\n",
        "text = f.read()\n",
        "print(text)\n",
        "f.close()"
      ]
    },
    {
      "cell_type": "code",
      "execution_count": null,
      "metadata": {
        "id": "J_IUtODAxtTI"
      },
      "outputs": [],
      "source": [
        "# writing the file\n",
        "f = open('myfile2.txt', 'w')\n",
        "f.write(\"Hello\")\n",
        "f.close()"
      ]
    },
    {
      "cell_type": "code",
      "execution_count": null,
      "metadata": {
        "id": "nz0nj1pZxtTI"
      },
      "outputs": [],
      "source": [
        "# appending the file\n",
        "f = open('myfile2.txt', 'a')\n",
        "f.write(\"Hello\")\n",
        "f.close()"
      ]
    },
    {
      "cell_type": "markdown",
      "metadata": {
        "id": "0x_K-eC6xtTI"
      },
      "source": [
        "### with keyword\n",
        "Using with keyword when dealing with file objects is best practice. file is properly closed after its suite finishes, even if exception is raised."
      ]
    },
    {
      "cell_type": "code",
      "execution_count": null,
      "metadata": {
        "id": "E0Wx2057xtTJ",
        "outputId": "70246ab0-b75d-4d14-d7d0-2a2268147e48"
      },
      "outputs": [
        {
          "name": "stdout",
          "output_type": "stream",
          "text": [
            "Hello wo\n"
          ]
        }
      ],
      "source": [
        "with open('myfile.txt','r') as f:\n",
        "    read_data = f.read()\n",
        "    print(read_data)"
      ]
    },
    {
      "cell_type": "markdown",
      "metadata": {
        "id": "PQeBzh9WxtTJ"
      },
      "source": [
        "# 50. read(), readlines() and other methods\n",
        "f.read(size) - read a files contents. size is optional numeric argument. it returns empty string if the end of the file has been reached.\n",
        "#\n",
        "f.readline() - reads a single line from the file.\n",
        "#\n",
        "f.write(string) - writes the contents of string to the file, returning the number of characters written.\n",
        "#\n",
        "f.writelines(lines) - The writelines() method in python writes a sequence of strings to a file."
      ]
    },
    {
      "cell_type": "code",
      "execution_count": null,
      "metadata": {
        "id": "g3qvL2mExtTJ",
        "outputId": "676eed80-cb98-49c5-edc5-430e336e14f0"
      },
      "outputs": [
        {
          "name": "stdout",
          "output_type": "stream",
          "text": [
            "Hello everyone, \n",
            "\n",
            "How are you?\n",
            "\n"
          ]
        }
      ],
      "source": [
        "f = open('myfile.txt','r')\n",
        "while True:\n",
        "    line = f.readline()\n",
        "    print(line)\n",
        "    if not line:\n",
        "        break"
      ]
    },
    {
      "cell_type": "code",
      "execution_count": null,
      "metadata": {
        "id": "2tlnbGFDxtTK"
      },
      "outputs": [],
      "source": [
        "with open('myfile.txt','w') as f:\n",
        "    f.write(\"My name is Dilkhush singh rajput.\")"
      ]
    },
    {
      "cell_type": "code",
      "execution_count": null,
      "metadata": {
        "id": "FfNwyw5BxtTK",
        "outputId": "41d46ad2-ed94-4cf7-a4bc-c1215500886a"
      },
      "outputs": [
        {
          "name": "stdout",
          "output_type": "stream",
          "text": [
            "Marks of student 1 in maths is: 56\n",
            "Marks of student 1 in english is: 70\n",
            "Marks of student 1 in SST is: 45\n",
            "\n",
            "Marks of student 2 in maths is: 78\n",
            "Marks of student 2 in english is: 90\n",
            "Marks of student 2 in SST is: 76\n",
            "\n",
            "Marks of student 3 in maths is: 67\n",
            "Marks of student 3 in english is: 98\n",
            "Marks of student 3 in SST is: 56\n"
          ]
        }
      ],
      "source": [
        "f = open('myfile2.txt', 'r')\n",
        "i = 0\n",
        "while True:\n",
        "    i = i+1\n",
        "    line = f.readline()\n",
        "    if not line:\n",
        "        break\n",
        "    m1 = line.split(\",\")[0]\n",
        "    m2 = line.split(\",\")[1]\n",
        "    m3 = line.split(\",\")[2]\n",
        "    print(f\"Marks of student {i} in maths is: {m1}\")\n",
        "    print(f\"Marks of student {i} in english is: {m2}\")\n",
        "    print(f\"Marks of student {i} in SST is: {m3}\")\n",
        "\n",
        ""
      ]
    },
    {
      "cell_type": "code",
      "execution_count": null,
      "metadata": {
        "id": "aknGCPSGxtTL"
      },
      "outputs": [],
      "source": [
        "# writelines()\n",
        "# The writelines() method in python writes a sequence of strings to a file.\n",
        "f = open('myfile.txt', 'w')\n",
        "lines = ['line 1\\n', 'line 2\\n', 'line 3\\n']\n",
        "f.writelines(lines)\n",
        "f.close()"
      ]
    },
    {
      "cell_type": "markdown",
      "metadata": {
        "id": "7U7CTsRtxtTL"
      },
      "source": [
        "# 51. seek() and tell() function"
      ]
    },
    {
      "cell_type": "markdown",
      "metadata": {
        "id": "rm5qeyK3xtTL"
      },
      "source": [
        "#### seek() function\n",
        "The seek() function allows you to move the current position within a file to a specific point. The position is specified in bytes, and you can move either forward or backward from the current position.\n",
        "#\n",
        "To change the file object’s position, use f.seek(offset, whence). The position is computed from adding offset to a reference point; the reference point is selected by the whence argument. A whence value of 0 measures from the beginning of the file, 1 uses the current file position, and 2 uses the end of the file as the reference point. whence can be omitted and defaults to 0, using the beginning of the file as the reference point."
      ]
    },
    {
      "cell_type": "code",
      "execution_count": null,
      "metadata": {
        "id": "zgNV45XNxtTU",
        "outputId": "16ad1d21-8051-4689-cb2b-fba3e5886fff"
      },
      "outputs": [
        {
          "name": "stdout",
          "output_type": "stream",
          "text": [
            "ne 1\n",
            "\n"
          ]
        }
      ],
      "source": [
        "with open('myfile.txt','r') as f:\n",
        "    f.seek(2) # Go to the 3rd character\n",
        "    data = f.read(5)\n",
        "    print(data)"
      ]
    },
    {
      "cell_type": "markdown",
      "metadata": {
        "id": "rdizSNSOxtTV"
      },
      "source": [
        "#### tell() function\n",
        "The tell() function returns the current position within the file, in bytes. This can be useful for keeping track of your location within the file or for seeking to a specific position relative to the current position."
      ]
    },
    {
      "cell_type": "code",
      "execution_count": null,
      "metadata": {
        "id": "5R1sjGRDxtTW",
        "outputId": "5f7b6a70-c62e-49d4-e9bb-fdd534793a64"
      },
      "outputs": [
        {
          "name": "stdout",
          "output_type": "stream",
          "text": [
            "2\n",
            "ne 1\n",
            "\n"
          ]
        }
      ],
      "source": [
        "with open('myfile.txt','r') as f:\n",
        "    f.seek(2)\n",
        "    print(f.tell())\n",
        "    data = f.read(5)\n",
        "    print(data)"
      ]
    },
    {
      "cell_type": "markdown",
      "metadata": {
        "id": "L5jpz4AtxtTW"
      },
      "source": [
        "#### truncate() function\n",
        "When you open a file in python using the open function, you can specify the mode in which you want to open the file. If you specify the mode as 'w' or 'a'. the file is opened in write mode and you can write to the file. However, if you want to truncate the file to a specific size, you can use the truncate function."
      ]
    },
    {
      "cell_type": "code",
      "execution_count": null,
      "metadata": {
        "id": "7loNyDF6xtTW",
        "outputId": "8db53801-4327-4b17-fb36-9459abcdf040"
      },
      "outputs": [
        {
          "name": "stdout",
          "output_type": "stream",
          "text": [
            "Hello wo\n"
          ]
        }
      ],
      "source": [
        "with open('myfile.txt','w') as f:\n",
        "    f.write(\"Hello world\")\n",
        "    f.truncate(8)\n",
        "\n",
        "with open('myfile.txt','r') as f:\n",
        "    print(f.read())"
      ]
    }
  ],
  "metadata": {
    "kernelspec": {
      "display_name": "Python 3",
      "language": "python",
      "name": "python3"
    },
    "language_info": {
      "codemirror_mode": {
        "name": "ipython",
        "version": 3
      },
      "file_extension": ".py",
      "mimetype": "text/x-python",
      "name": "python",
      "nbconvert_exporter": "python",
      "pygments_lexer": "ipython3",
      "version": "3.11.2"
    },
    "orig_nbformat": 4,
    "vscode": {
      "interpreter": {
        "hash": "5238573367df39f7286bb46f9ff5f08f63a01a80960060ce41e3c79b190280fa"
      }
    },
    "colab": {
      "provenance": [],
      "include_colab_link": true
    }
  },
  "nbformat": 4,
  "nbformat_minor": 0
}