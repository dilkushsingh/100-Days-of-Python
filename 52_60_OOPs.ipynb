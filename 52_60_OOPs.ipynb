{
  "cells": [
    {
      "cell_type": "markdown",
      "metadata": {
        "id": "view-in-github",
        "colab_type": "text"
      },
      "source": [
        "<a href=\"https://colab.research.google.com/github/dilkushsingh/My-Python-Learning/blob/main/52_60_OOPs.ipynb\" target=\"_parent\"><img src=\"https://colab.research.google.com/assets/colab-badge.svg\" alt=\"Open In Colab\"/></a>"
      ]
    },
    {
      "cell_type": "markdown",
      "metadata": {
        "id": "A1OvyRzPyXPb"
      },
      "source": [
        "# 52. Lambda function\n",
        "\n",
        "lambda functions are often used in situations where a small function is required for a short period of time. They are commonly used as arguments to higher-order functions, such as map, filter, and reduce."
      ]
    },
    {
      "cell_type": "code",
      "execution_count": null,
      "metadata": {
        "id": "0JGGgFEXyXPk",
        "outputId": "abfbcbfa-6304-4dab-f0d1-30b2ea058d6c"
      },
      "outputs": [
        {
          "name": "stdout",
          "output_type": "stream",
          "text": [
            "10\n",
            "4.5\n"
          ]
        }
      ],
      "source": [
        "# def double(x):\n",
        "#     return x*2\n",
        "\n",
        "double = lambda x : x*2\n",
        "print(double(5))\n",
        "\n",
        "avg = lambda x,y : (x+y)/2\n",
        "print(avg(3,6))"
      ]
    },
    {
      "cell_type": "markdown",
      "metadata": {
        "id": "Eyp769doyXPo"
      },
      "source": [
        "# 53. map, filter, and reduce\n"
      ]
    },
    {
      "cell_type": "markdown",
      "metadata": {
        "id": "nD3_y9yjyXPo"
      },
      "source": [
        "### map\n",
        "The map function applies a function to each element in a sequence and returns a new sequence containing the transformed elements.\n",
        "#\n",
        "Exa- map(function, iterable)\n",
        "#\n",
        "The function argument is a function that is applied to each element in the iterable argument. The iterable argument can be list, tuple or any other iterable object."
      ]
    },
    {
      "cell_type": "code",
      "execution_count": null,
      "metadata": {
        "id": "kh4CtpxayXPp",
        "outputId": "6fe87b78-9eb6-4bf4-aca1-ed7511a33cd3"
      },
      "outputs": [
        {
          "name": "stdout",
          "output_type": "stream",
          "text": [
            "[1, 8, 27, 125, 27, 64]\n"
          ]
        }
      ],
      "source": [
        "l = [1,2,3,5,3,4]\n",
        "newl = list(map(lambda x: x*x*x, l))\n",
        "print(newl)"
      ]
    },
    {
      "cell_type": "markdown",
      "metadata": {
        "id": "awXQTZIoyXPq"
      },
      "source": [
        "### filter\n",
        "The filter function filters a sequence of elements based on a given predicate(a function that returns a boolean value) and returns a new sequence containing only the elements that meet the predicate."
      ]
    },
    {
      "cell_type": "code",
      "execution_count": null,
      "metadata": {
        "id": "6xizXOUxyXPq",
        "outputId": "c6e610a4-adf1-49e2-cdc8-177c0b185a9d"
      },
      "outputs": [
        {
          "name": "stdout",
          "output_type": "stream",
          "text": [
            "[3, 5, 3, 4]\n"
          ]
        }
      ],
      "source": [
        "def filter_function(a):\n",
        "    return a>2\n",
        "\n",
        "newnewl = list(filter(filter_function, l))\n",
        "print(newnewl)"
      ]
    },
    {
      "cell_type": "markdown",
      "metadata": {
        "id": "Wakk9qP6yXPr"
      },
      "source": [
        "### reduce\n",
        "The reduce function is a higher-order function that applies a function to a sequence and returns a single value. It is a part of the functools module in Python."
      ]
    },
    {
      "cell_type": "code",
      "execution_count": null,
      "metadata": {
        "id": "VembCbFeyXPs",
        "outputId": "0a25c5ee-e392-4141-a075-7f781ed3a30e"
      },
      "outputs": [
        {
          "name": "stdout",
          "output_type": "stream",
          "text": [
            "15\n"
          ]
        }
      ],
      "source": [
        "from functools import reduce\n",
        "\n",
        "numbers = [1,2,3,4,5]\n",
        "def mysum(x,y):\n",
        "    return x+y\n",
        "\n",
        "sum = reduce(mysum, numbers)\n",
        "print(sum)"
      ]
    },
    {
      "cell_type": "markdown",
      "metadata": {
        "id": "mieJ-npvyXPt"
      },
      "source": [
        "# 54. is vs =="
      ]
    },
    {
      "cell_type": "code",
      "execution_count": null,
      "metadata": {
        "id": "dS7y8wMJyXPu",
        "outputId": "61f1e841-cc36-4289-9fc8-bc9e35a10d30"
      },
      "outputs": [
        {
          "name": "stdout",
          "output_type": "stream",
          "text": [
            "False\n",
            "False\n"
          ]
        }
      ],
      "source": [
        "a = 4\n",
        "b = \"4\"\n",
        "print(a is b) # exact location of object in memory\n",
        "print(a == b) # value"
      ]
    },
    {
      "cell_type": "code",
      "execution_count": null,
      "metadata": {
        "id": "1k-FZrzTyXPu",
        "outputId": "39badd29-f18a-40c5-f8a0-061d59ab4945"
      },
      "outputs": [
        {
          "name": "stdout",
          "output_type": "stream",
          "text": [
            "False\n",
            "True\n"
          ]
        }
      ],
      "source": [
        "list1 = [1,3,4,5]\n",
        "list2 = [1,3,4,5]\n",
        "print(list1 is list2)\n",
        "print(list1 == list2)"
      ]
    },
    {
      "cell_type": "code",
      "execution_count": null,
      "metadata": {
        "id": "Wk5sVqjxyXPv",
        "outputId": "3d254e28-1758-49ba-82e7-c8b1d84decae"
      },
      "outputs": [
        {
          "name": "stdout",
          "output_type": "stream",
          "text": [
            "True\n",
            "True\n"
          ]
        }
      ],
      "source": [
        "c = 3\n",
        "d = 3\n",
        "print(c is d) # compare identity\n",
        "print(c == d) # compare value"
      ]
    },
    {
      "cell_type": "markdown",
      "metadata": {
        "id": "dgaHPhMjyXPv"
      },
      "source": [
        "# 55. Exercise 5 - Snake, Water, Gun game\n"
      ]
    },
    {
      "cell_type": "markdown",
      "metadata": {
        "id": "uDeMcp37yXPv"
      },
      "source": []
    },
    {
      "cell_type": "markdown",
      "metadata": {
        "id": "xTsfUvcVyXPw"
      },
      "source": [
        "# 56. Introduction to OOPs"
      ]
    },
    {
      "cell_type": "markdown",
      "metadata": {
        "id": "MQH1kY5hyXPw"
      },
      "source": [
        "OOP - Solving a problem by creating objects approach.\n",
        "1. Procedural Programming - functions,etc.\n",
        "2. Object oriented Programming - classes and objects.\n",
        "\n",
        "Class and Object -\n",
        "1. Class - blueprint or template for creating objects. It defines properties and methods that an object of that class will have.\n",
        "2. Object - instance of a class, and it contains its own data and methods.\n",
        "\n",
        "Features of OOP -\n",
        "1. Encapsulation - Intenal state of an object is hidden and can only be accessed or modified through the objects method.\n",
        "2. Polymorphism - Objects of different classes can be treated as if they were objects of a common class."
      ]
    },
    {
      "cell_type": "markdown",
      "metadata": {
        "id": "npgArW_qyXPw"
      },
      "source": [
        "# 57. Classes and Objects"
      ]
    },
    {
      "cell_type": "code",
      "execution_count": null,
      "metadata": {
        "id": "HUHWhekmyXPw",
        "outputId": "b481891e-4f9c-4656-f772-febe40988836"
      },
      "outputs": [
        {
          "name": "stdout",
          "output_type": "stream",
          "text": [
            "Class of person having name, occupation and networth.\n",
            "Shubham is a Doctor\n"
          ]
        }
      ],
      "source": [
        "# Creating a class and object\n",
        "\n",
        "class Person:\n",
        "    \"\"\"Class of person having name, occupation and networth.\"\"\"\n",
        "    name = \"Dilkhush\"\n",
        "    occupation = \"Data Scientist\"\n",
        "    networth = 10\n",
        "    def info(self):\n",
        "        print(f\"{self.name} is a {self.occupation}\")\n",
        "\n",
        "a = Person()\n",
        "a.name = \"Shubham\"\n",
        "a.occupation = \"Doctor\"\n",
        "# print(a.name,a.occupation)\n",
        "print(Person.__doc__)\n",
        "a.info()\n"
      ]
    },
    {
      "cell_type": "code",
      "execution_count": null,
      "metadata": {
        "id": "jf1NFhqVyXPx",
        "outputId": "19e87435-964a-47f5-b309-6fdd7223e8ef"
      },
      "outputs": [
        {
          "name": "stdout",
          "output_type": "stream",
          "text": [
            "storage west\n",
            "storage east\n"
          ]
        }
      ],
      "source": [
        "class Warehouse:\n",
        "    purpose = 'storage'\n",
        "    region = 'west'\n",
        "\n",
        "w1 = Warehouse()\n",
        "print(w1.purpose, w1.region)\n",
        "w2 = Warehouse()\n",
        "w2.region = 'east'\n",
        "print(w2.purpose, w2.region)"
      ]
    },
    {
      "cell_type": "markdown",
      "metadata": {
        "id": "tk80wUtzyXPx"
      },
      "source": [
        "# 58. Constructors"
      ]
    },
    {
      "cell_type": "markdown",
      "metadata": {
        "id": "dOa2I21SyXPx"
      },
      "source": [
        "A constructor is a special method in a class used to create and initialize an object of a class. There are different types of constructors. Constructor is invoked automatically when an object of a class is created.\n",
        "#\n",
        "A constructor is a unique function that gets called automatically when an object is created of a class.\n",
        "#### Types of Constructors\n",
        "1. Parameterized constructor - accept arguments along with self.\n",
        "2. Default constructor - doesn't accept any arguments from object."
      ]
    },
    {
      "cell_type": "code",
      "execution_count": null,
      "metadata": {
        "id": "eBmiFHxdyXPy",
        "outputId": "cbbd3d2d-e327-438b-c39c-01af2c320660"
      },
      "outputs": [
        {
          "name": "stdout",
          "output_type": "stream",
          "text": [
            "Hey I am a person\n",
            "Dilkhush is a Data Scientist\n"
          ]
        }
      ],
      "source": [
        "class Person:\n",
        "    def __init__(self, name, occ):\n",
        "        print(\"Hey I am a person\")\n",
        "        self.name = name\n",
        "        self.occ = occ\n",
        "    def info(self):\n",
        "        print(f\"{self.name} is a {self.occ}\")\n",
        "\n",
        "a = Person(\"Dilkhush\", \"Data Scientist\")\n",
        "a.info()"
      ]
    },
    {
      "cell_type": "markdown",
      "metadata": {
        "id": "knXssZzzyXPy"
      },
      "source": [
        "# 59. Decorators"
      ]
    },
    {
      "cell_type": "markdown",
      "metadata": {
        "id": "dxWvkWxfyXPy"
      },
      "source": [
        "Python decorators are a powerful and versatile tool that allow you to modify the behaviour of functions and methods.\n",
        "#\n",
        "A decorator is a function that takes another function as an argument and returns a new function that modifies the behaviour of the original function."
      ]
    },
    {
      "cell_type": "code",
      "execution_count": null,
      "metadata": {
        "id": "J4eEggjKyXPz",
        "outputId": "859b373b-a410-405f-8678-a37cf9123133"
      },
      "outputs": [
        {
          "name": "stdout",
          "output_type": "stream",
          "text": [
            "Good Morning\n",
            "Hello world\n",
            "Thanks for using this function\n"
          ]
        }
      ],
      "source": [
        "\n",
        "def greet(fx):\n",
        "    def mfx():\n",
        "        print(\"Good Morning\")\n",
        "        fx()\n",
        "        print(\"Thanks for using this function\")\n",
        "    return mfx\n",
        "\n",
        "@greet\n",
        "def hello():\n",
        "    print(\"Hello world\")\n",
        "\n",
        "hello()"
      ]
    },
    {
      "cell_type": "code",
      "execution_count": null,
      "metadata": {
        "id": "HixanCOQyXPz",
        "outputId": "9abc734d-9801-433a-f457-08fb8c3a1256"
      },
      "outputs": [
        {
          "name": "stdout",
          "output_type": "stream",
          "text": [
            "hello\n",
            "7\n",
            "thanks\n"
          ]
        }
      ],
      "source": [
        "def deco(FX):\n",
        "    def modifiedFX(*args, **kwargs):\n",
        "        print('hello')\n",
        "        FX(*args, **kwargs)\n",
        "        print('thanks')\n",
        "    return modifiedFX\n",
        "\n",
        "@deco\n",
        "def addition(a, b):\n",
        "    print(a+b)\n",
        "\n",
        "addition(3,4)\n"
      ]
    },
    {
      "cell_type": "markdown",
      "metadata": {
        "id": "ncbnWo9PyXPz"
      },
      "source": [
        "# 60. Getters and Setters"
      ]
    },
    {
      "cell_type": "markdown",
      "metadata": {
        "id": "eIHi19OByXP0"
      },
      "source": [
        "### Getters\n",
        "Getters in python are methods that are used to access the values of an objects properties. They are used to return the value of a specific property, and are typically defined using the @property decorator.\n",
        "\n",
        "### Setter\n",
        "Getters do not take any parameters and we cannot set the value through getter method. For that we need setter method which can be added by decorating method with @property_name.setter"
      ]
    },
    {
      "cell_type": "code",
      "execution_count": null,
      "metadata": {
        "id": "NZDHCacmyXP0",
        "outputId": "25ba4c89-d1b0-4b39-ce14-c62b7b6937bb"
      },
      "outputs": [
        {
          "name": "stdout",
          "output_type": "stream",
          "text": [
            "67.0\n",
            "Value is 6.7\n"
          ]
        }
      ],
      "source": [
        "class MyClass:\n",
        "    def __init__(self,value):\n",
        "        self._value = value\n",
        "\n",
        "    def show(self):\n",
        "        print(f\"Value is {self._value}\")\n",
        "\n",
        "    # Getter\n",
        "    @property\n",
        "    def ten_value(self):\n",
        "        return 10*self._value\n",
        "\n",
        "    # Setter\n",
        "    @ten_value.setter\n",
        "    def ten_value(self,new_value):\n",
        "        self._value = new_value/10\n",
        "\n",
        "obj = MyClass(10)\n",
        "obj.ten_value = 67\n",
        "print(obj.ten_value)\n",
        "obj.show()"
      ]
    }
  ],
  "metadata": {
    "kernelspec": {
      "display_name": "Python 3",
      "language": "python",
      "name": "python3"
    },
    "language_info": {
      "codemirror_mode": {
        "name": "ipython",
        "version": 3
      },
      "file_extension": ".py",
      "mimetype": "text/x-python",
      "name": "python",
      "nbconvert_exporter": "python",
      "pygments_lexer": "ipython3",
      "version": "3.11.2"
    },
    "orig_nbformat": 4,
    "vscode": {
      "interpreter": {
        "hash": "5238573367df39f7286bb46f9ff5f08f63a01a80960060ce41e3c79b190280fa"
      }
    },
    "colab": {
      "provenance": [],
      "include_colab_link": true
    }
  },
  "nbformat": 4,
  "nbformat_minor": 0
}