{
  "cells": [
    {
      "cell_type": "markdown",
      "metadata": {
        "id": "view-in-github",
        "colab_type": "text"
      },
      "source": [
        "<a href=\"https://colab.research.google.com/github/dilkushsingh/My-Python-Learning/blob/main/31_40_Sets%2C_Dictionary_and_Exception_Handling.ipynb\" target=\"_parent\"><img src=\"https://colab.research.google.com/assets/colab-badge.svg\" alt=\"Open In Colab\"/></a>"
      ]
    },
    {
      "cell_type": "markdown",
      "metadata": {
        "id": "H0ozg4KmwesQ"
      },
      "source": [
        "# 31. Sets"
      ]
    },
    {
      "cell_type": "markdown",
      "metadata": {
        "id": "W7FFBnD9wesY"
      },
      "source": [
        "Sets are unordered collection with no duplicate elements. They store multiple items in a single variable. Set items are separated by commas and enclosed within curly brackets {}. Sets are unchangeable, meaning you cannot change items of the set once created."
      ]
    },
    {
      "cell_type": "code",
      "execution_count": null,
      "metadata": {
        "id": "YoiFnLyiwesZ",
        "outputId": "9d2bc63a-9247-4627-ce80-9963ab265b64"
      },
      "outputs": [
        {
          "name": "stdout",
          "output_type": "stream",
          "text": [
            "{2, 3, 4, 6, 9}\n",
            "{'dilkhush', 18, 7748, 'mds'}\n",
            "<class 'set'>\n",
            "dilkhush\n",
            "18\n",
            "7748\n",
            "mds\n"
          ]
        }
      ],
      "source": [
        "s = {2,4,4,3,9,6}\n",
        "print(s)\n",
        "\n",
        "biodata = {\"dilkhush\",18,\"mds\",7748}\n",
        "print(biodata)\n",
        "print(type(biodata))\n",
        "\n",
        "for value in biodata:\n",
        "    print(value)"
      ]
    },
    {
      "cell_type": "markdown",
      "metadata": {
        "id": "LZrLaXS1wesd"
      },
      "source": [
        "### Note\n",
        "To create an empty set you have to use set() not {}, it creates empty dictionary."
      ]
    },
    {
      "cell_type": "code",
      "execution_count": null,
      "metadata": {
        "id": "7CyFQLArwesf",
        "outputId": "2733f6d2-4dfa-4f9d-d05d-704403b23ae5"
      },
      "outputs": [
        {
          "name": "stdout",
          "output_type": "stream",
          "text": [
            "<class 'dict'>\n"
          ]
        }
      ],
      "source": [
        "a = {}\n",
        "print(type(a))"
      ]
    },
    {
      "cell_type": "code",
      "execution_count": null,
      "metadata": {
        "id": "vPF7oBNewesf",
        "outputId": "a00d329a-6b1d-4b33-dfc1-38d73cc7d717"
      },
      "outputs": [
        {
          "name": "stdout",
          "output_type": "stream",
          "text": [
            "<class 'set'>\n"
          ]
        }
      ],
      "source": [
        "b = set()\n",
        "print(type(b))"
      ]
    },
    {
      "cell_type": "code",
      "execution_count": null,
      "metadata": {
        "id": "EgC-0RfHwesg",
        "outputId": "682edf81-81da-4ec3-96c0-911a01258472"
      },
      "outputs": [
        {
          "name": "stdout",
          "output_type": "stream",
          "text": [
            "<class 'tuple'>\n"
          ]
        }
      ],
      "source": [
        "c = ()\n",
        "print(type(c))"
      ]
    },
    {
      "cell_type": "markdown",
      "metadata": {
        "id": "6FEzHN39wesi"
      },
      "source": [
        "# 32. Set Methods\n"
      ]
    },
    {
      "cell_type": "code",
      "execution_count": null,
      "metadata": {
        "id": "B-h02Kerwesj"
      },
      "outputs": [],
      "source": [
        "s1 = {1,3,4,5,3}\n",
        "s2 = {1,6,7,4,3}"
      ]
    },
    {
      "cell_type": "code",
      "execution_count": null,
      "metadata": {
        "id": "9-9CPKXIwesj",
        "outputId": "ffc5f4be-67f3-40cd-dcac-105cc80947b7"
      },
      "outputs": [
        {
          "name": "stdout",
          "output_type": "stream",
          "text": [
            "{1, 3, 4, 5, 6, 7}\n"
          ]
        }
      ],
      "source": [
        "\"\"\"s1.union(s2)\n",
        "    merge two sets\n",
        "\"\"\"\n",
        "print(s1.union(s2))"
      ]
    },
    {
      "cell_type": "code",
      "execution_count": null,
      "metadata": {
        "id": "n7sLg6_owesk",
        "outputId": "cc8780e7-4812-48aa-c351-4d844341c529"
      },
      "outputs": [
        {
          "name": "stdout",
          "output_type": "stream",
          "text": [
            "{1, 3, 4, 5, 6, 7}\n"
          ]
        }
      ],
      "source": [
        "\"\"\"s1.update(s2)\n",
        "    adds additional values from s2 into s1\n",
        "\"\"\"\n",
        "s1.update(s2)\n",
        "print(s1)"
      ]
    },
    {
      "cell_type": "code",
      "execution_count": null,
      "metadata": {
        "id": "uypdLbPmwesl",
        "outputId": "f07584d2-a849-4c1e-e0f6-fcb40fde5bc1"
      },
      "outputs": [
        {
          "data": {
            "text/plain": [
              "{1, 3, 4, 6, 7}"
            ]
          },
          "execution_count": 8,
          "metadata": {},
          "output_type": "execute_result"
        }
      ],
      "source": [
        "\"\"\"s1.intersection(s2)\n",
        "    prints all the common values in both sets\n",
        "\"\"\"\n",
        "s1.intersection(s2)"
      ]
    },
    {
      "cell_type": "code",
      "execution_count": null,
      "metadata": {
        "id": "SOIuNvj5wesl",
        "outputId": "0a079acd-0ca4-4b63-f9e9-07fa374bb76f"
      },
      "outputs": [
        {
          "name": "stdout",
          "output_type": "stream",
          "text": [
            "{1, 3, 4, 6, 7}\n"
          ]
        }
      ],
      "source": [
        "\"\"\"s1.intersection_update(s2)\n",
        "    update the s1 with all common values\n",
        "\"\"\"\n",
        "s1.intersection_update(s2)\n",
        "print(s1)"
      ]
    },
    {
      "cell_type": "code",
      "execution_count": null,
      "metadata": {
        "id": "iReDLbB0wesm",
        "outputId": "41621839-3358-4a5d-a23b-bdba50cd68d7"
      },
      "outputs": [
        {
          "data": {
            "text/plain": [
              "{'Berlin', 'Delhi', 'Kabul', 'Seoul'}"
            ]
          },
          "execution_count": 10,
          "metadata": {},
          "output_type": "execute_result"
        }
      ],
      "source": [
        "\"\"\"s1.symmetric_difference(s2)\n",
        "    returns a new set which is having all the values \\\n",
        "    uncommon values.\n",
        "\"\"\"\n",
        "cities = {\"Tokyo\", \"Madrid\", \"Berlin\", \"Delhi\"}\n",
        "cities2 = {\"Tokyo\", \"Seoul\", \"Kabul\", \"Madrid\"}\n",
        "cities.symmetric_difference(cities2)"
      ]
    },
    {
      "cell_type": "code",
      "execution_count": null,
      "metadata": {
        "id": "skOQylYJwesn",
        "outputId": "a71f2009-cac0-473e-80ab-88c7cac790ff"
      },
      "outputs": [
        {
          "name": "stdout",
          "output_type": "stream",
          "text": [
            "{'Berlin', 'Seoul', 'Delhi', 'Kabul'}\n"
          ]
        }
      ],
      "source": [
        "\"\"\"s1.symmetric_difference_update\n",
        "    update the s1 with all the uncommon values.\n",
        "\"\"\"\n",
        "cities.symmetric_difference_update(cities2)\n",
        "print(cities)"
      ]
    },
    {
      "cell_type": "code",
      "execution_count": null,
      "metadata": {
        "id": "0GjLsBoYweso",
        "outputId": "09ab5359-6ee4-4ec5-f570-b644a89342f5"
      },
      "outputs": [
        {
          "data": {
            "text/plain": [
              "{'Berlin', 'Delhi'}"
            ]
          },
          "execution_count": 12,
          "metadata": {},
          "output_type": "execute_result"
        }
      ],
      "source": [
        "\"\"\"s1.difference(s2)\n",
        "    returns a new set having items that are only present\\\n",
        "    in the original set and not in the both sets.\n",
        "\"\"\"\n",
        "\n",
        "cities = {\"Tokyo\", \"Madrid\", \"Berlin\", \"Delhi\"}\n",
        "cities2 = {\"Tokyo\", \"Seoul\", \"Kabul\", \"Madrid\"}\n",
        "cities.difference(cities2)"
      ]
    },
    {
      "cell_type": "code",
      "execution_count": null,
      "metadata": {
        "id": "9SwIrHN1weso",
        "outputId": "c76c4a4b-0a73-4cc1-caeb-1b973f9d9359"
      },
      "outputs": [
        {
          "name": "stdout",
          "output_type": "stream",
          "text": [
            "{'Berlin', 'Delhi'}\n"
          ]
        }
      ],
      "source": [
        "\"\"\"s1.difference_update(s2)\n",
        "    update the s1 having items that are only present\\\n",
        "    in the original set and not in the both sets.\n",
        "\"\"\"\n",
        "\n",
        "cities = {\"Tokyo\", \"Madrid\", \"Berlin\", \"Delhi\"}\n",
        "cities2 = {\"Tokyo\", \"Seoul\", \"Kabul\", \"Madrid\"}\n",
        "cities.difference_update(cities2)\n",
        "print(cities)"
      ]
    },
    {
      "cell_type": "code",
      "execution_count": null,
      "metadata": {
        "id": "Vyeab3gswesp",
        "outputId": "702897b1-adc4-41c5-ff57-8d9d28fbe18f"
      },
      "outputs": [
        {
          "name": "stdout",
          "output_type": "stream",
          "text": [
            "False\n",
            "True\n"
          ]
        }
      ],
      "source": [
        "\"\"\"s1.isdisjoint(s2)\n",
        "    returns True if both sets are disjoint else False.\n",
        "\"\"\"\n",
        "s1 = {1,3,2,3,4}\n",
        "s2 = {8,6,4,3,0}\n",
        "print(s1.isdisjoint(s2))\n",
        "s3 = {23,34,23,67}\n",
        "print(s1.isdisjoint(s3))"
      ]
    },
    {
      "cell_type": "code",
      "execution_count": null,
      "metadata": {
        "id": "pJhb7Q1swesq",
        "outputId": "823d06e8-ef97-49bb-f05a-3f82364ab049"
      },
      "outputs": [
        {
          "name": "stdout",
          "output_type": "stream",
          "text": [
            "True\n",
            "False\n"
          ]
        }
      ],
      "source": [
        "\"\"\"s1.issuperset(s2)\n",
        "    returns True if elements of s2 are present in s1\n",
        "\"\"\"\n",
        "s1 = {2,4,6,8,10,12}\n",
        "s2 = {2,6,10}\n",
        "print(s1.issuperset(s2))\n",
        "s3 = {3,4,2,3}\n",
        "print(s1.issuperset(s3))"
      ]
    },
    {
      "cell_type": "code",
      "execution_count": null,
      "metadata": {
        "id": "jumdjkuWwesr",
        "outputId": "02babb35-34fd-4213-bfa6-8c75d7962ec8"
      },
      "outputs": [
        {
          "name": "stdout",
          "output_type": "stream",
          "text": [
            "False\n",
            "True\n"
          ]
        }
      ],
      "source": [
        "\"\"\"s1.issubset(s2)\n",
        "    returns True if elements of s1 are present in s2\n",
        "\"\"\"\n",
        "s1 = {2,4,6,8,10,12}\n",
        "s2 = {2,6,10}\n",
        "print(s1.issubset(s2))\n",
        "s3 = {2,4,6,8,10,12,14}\n",
        "print(s1.issubset(s3))"
      ]
    },
    {
      "cell_type": "code",
      "execution_count": null,
      "metadata": {
        "id": "Q81EB4hwwesr",
        "outputId": "0962c3ea-6de3-4bd6-e946-faa28e96ff12"
      },
      "outputs": [
        {
          "name": "stdout",
          "output_type": "stream",
          "text": [
            "{16, 2, 4, 6, 8, 10, 12}\n"
          ]
        }
      ],
      "source": [
        "\"\"\"s1.add()\n",
        "    Adds single item into s1\n",
        "\"\"\"\n",
        "s1 = {2,4,6,8,10,12}\n",
        "s1.add(16)\n",
        "print(s1)\n"
      ]
    },
    {
      "cell_type": "code",
      "execution_count": null,
      "metadata": {
        "id": "Ls2QBv0Bwess",
        "outputId": "fda4b354-b567-4978-e675-8e9fdf3003f2"
      },
      "outputs": [
        {
          "name": "stdout",
          "output_type": "stream",
          "text": [
            "{2, 4, 8, 10, 12}\n"
          ]
        },
        {
          "data": {
            "text/plain": [
              "\"difference between remove and discard\\n    remove throws error when we try to delete an item     which is not present while discard doesn't throw     any error.\\n\""
            ]
          },
          "execution_count": 18,
          "metadata": {},
          "output_type": "execute_result"
        }
      ],
      "source": [
        "\"\"\"s1.remove() / s1.discard()\n",
        "    deletes the given item from s1\n",
        "\"\"\"\n",
        "s1 = {2,4,6,8,10,12}\n",
        "s1.remove(6)\n",
        "print(s1)\n",
        "\n",
        "\"\"\"difference between remove and discard\n",
        "    remove throws error when we try to delete an item \\\n",
        "    which is not present while discard doesn't throw \\\n",
        "    any error.\n",
        "\"\"\""
      ]
    },
    {
      "cell_type": "code",
      "execution_count": null,
      "metadata": {
        "id": "UXJDpLzAwess",
        "outputId": "9fc6ceb8-fab6-4f2e-c14a-817e9caec967"
      },
      "outputs": [
        {
          "data": {
            "text/plain": [
              "'Tokyo'"
            ]
          },
          "execution_count": 19,
          "metadata": {},
          "output_type": "execute_result"
        }
      ],
      "source": [
        "\"\"\"s1.pop()\n",
        "    Deletes random value from s1 and also return it\n",
        "\"\"\"\n",
        "cities = {\"Madrid\", \"Tokyo\", \"Berlin\", \"Delhi\"}\n",
        "cities.pop()"
      ]
    },
    {
      "cell_type": "code",
      "execution_count": null,
      "metadata": {
        "id": "Ag-ER7Njwest"
      },
      "outputs": [],
      "source": [
        "\"\"\"del\n",
        "    del is not a method, rather it is a keyword which \\\n",
        "    deletes the set entirely.\n",
        "\"\"\"\n",
        "s1 = {3,2,4,5,9}\n",
        "del s1\n",
        "# print(s1) # Throws error because s1 is already deleted"
      ]
    },
    {
      "cell_type": "code",
      "execution_count": null,
      "metadata": {
        "id": "-6Pm5GGWwest",
        "outputId": "d7cff6b4-a3f8-4239-b547-079dba875bfe"
      },
      "outputs": [
        {
          "name": "stdout",
          "output_type": "stream",
          "text": [
            "set()\n"
          ]
        }
      ],
      "source": [
        "\"\"\"s1.clear()\n",
        "    deletes all the items from s1 and makes it empty set\n",
        "\"\"\"\n",
        "s1 = {4,3,43,22,344,90}\n",
        "s1.clear()\n",
        "print(s1)"
      ]
    },
    {
      "cell_type": "code",
      "execution_count": null,
      "metadata": {
        "id": "JVV1iYRpwest",
        "outputId": "93feb0a4-8fb6-4081-cbcf-2eb5b80b14f6"
      },
      "outputs": [
        {
          "name": "stdout",
          "output_type": "stream",
          "text": [
            "Carla is present.\n"
          ]
        }
      ],
      "source": [
        "\"\"\"Checks if item exists\n",
        "    Check if an item exist in the set or not.\n",
        "\"\"\"\n",
        "info = {\"Carla\",19,False,5.9}\n",
        "if \"Carla\" in info:\n",
        "    print(\"Carla is present.\")\n",
        "else:\n",
        "    print(\"Carla is absent.\")"
      ]
    },
    {
      "cell_type": "markdown",
      "metadata": {
        "id": "5XWEGeVgwesu"
      },
      "source": [
        "# 33. Dictionary"
      ]
    },
    {
      "cell_type": "markdown",
      "metadata": {
        "id": "V6kdtTeLwesu"
      },
      "source": [
        "Dictionaries are ordered collection of data itmes. They store multiple items in a single variable. Dictionary items are key-value pairs that are separated by commas and enclosed within curly brackets {}."
      ]
    },
    {
      "cell_type": "markdown",
      "metadata": {
        "id": "youFU4ldwesu"
      },
      "source": [
        "Note - Set is unordered but dictionary is ordered from python version 3.7 onwards."
      ]
    },
    {
      "cell_type": "code",
      "execution_count": null,
      "metadata": {
        "id": "pbvfL9DLwesu",
        "outputId": "88b90ffe-879d-4470-bef3-bc81c99aaee2"
      },
      "outputs": [
        {
          "name": "stdout",
          "output_type": "stream",
          "text": [
            "{'name': 'Karan', 'age': 19, 'eligible': True}\n"
          ]
        }
      ],
      "source": [
        "info = {'name':'Karan', 'age':19, 'eligible':True}\n",
        "print(info)"
      ]
    },
    {
      "cell_type": "code",
      "execution_count": null,
      "metadata": {
        "id": "GAvvJdWewesv",
        "outputId": "394f341c-2025-4e47-bbe1-09191b8427bf"
      },
      "outputs": [
        {
          "name": "stdout",
          "output_type": "stream",
          "text": [
            "Karan\n",
            "Karan\n"
          ]
        }
      ],
      "source": [
        "# Accessing single values\n",
        "print(info['name'])\n",
        "print(info.get('name'))\n",
        "\n",
        "#difference is that first method throws error if key is not present while seconds doesn't throws any error."
      ]
    },
    {
      "cell_type": "code",
      "execution_count": null,
      "metadata": {
        "id": "Sl1NPpKwwesv",
        "outputId": "83284bfb-17a3-4edf-da52-3cd979a44e5d"
      },
      "outputs": [
        {
          "name": "stdout",
          "output_type": "stream",
          "text": [
            "dict_keys(['name', 'age', 'eligible'])\n",
            "dict_values(['Karan', 19, True])\n",
            "Karan\n",
            "19\n",
            "True\n"
          ]
        }
      ],
      "source": [
        "# Accessing multiple values\n",
        "print(info.keys())\n",
        "print(info.values())\n",
        "for key in info.keys():\n",
        "    print(info[key])"
      ]
    },
    {
      "cell_type": "code",
      "execution_count": null,
      "metadata": {
        "id": "dh2t-2S0wesx",
        "outputId": "af6dc17d-8f16-4970-bd20-ec2716af98d7"
      },
      "outputs": [
        {
          "name": "stdout",
          "output_type": "stream",
          "text": [
            "dict_items([('name', 'Karan'), ('age', 19), ('eligible', True)])\n",
            "The value corresponding to the key name is Karan\n",
            "The value corresponding to the key age is 19\n",
            "The value corresponding to the key eligible is True\n"
          ]
        }
      ],
      "source": [
        "# Accessing key-value pairs\n",
        "print(info.items())\n",
        "\n",
        "for key,value in info.items():\n",
        "    print(f\"The value corresponding to the key {key} is {value}\")"
      ]
    },
    {
      "cell_type": "markdown",
      "metadata": {
        "id": "BjiQk4txwesy"
      },
      "source": [
        "# 34. Dictionary Methods"
      ]
    },
    {
      "cell_type": "code",
      "execution_count": null,
      "metadata": {
        "id": "E8DHy0ZOwesy",
        "outputId": "9f63a6ca-5a9c-4c01-b3b9-c3fa1c179ccb"
      },
      "outputs": [
        {
          "name": "stdout",
          "output_type": "stream",
          "text": [
            "{122: 67, 123: 89, 567: 69, 670: 69, 566: 90}\n"
          ]
        }
      ],
      "source": [
        "\"\"\"dict1.update(dict2)\n",
        "    updates the value of the key provided to it if the item already exist in dictionary, else it creates a new key-value pair.\n",
        "\"\"\"\n",
        "ep1 = {122: 45, 123:89, 567:69, 670: 69}\n",
        "ep2 = {122: 67, 566: 90}\n",
        "ep1.update(ep2)\n",
        "print(ep1)"
      ]
    },
    {
      "cell_type": "code",
      "execution_count": null,
      "metadata": {
        "id": "TR44Fr2Cwesz",
        "outputId": "8cea6cf9-4597-4fff-ae1f-b2c50ee8b7ed"
      },
      "outputs": [
        {
          "name": "stdout",
          "output_type": "stream",
          "text": [
            "{}\n"
          ]
        }
      ],
      "source": [
        "\"\"\"dict.clear()\n",
        "    cleares all the dictionary.\n",
        "\"\"\"\n",
        "dict = {12: 12, 10: 10, 7:7}\n",
        "dict.clear()\n",
        "print(dict)"
      ]
    },
    {
      "cell_type": "code",
      "execution_count": null,
      "metadata": {
        "id": "YJFV74q_wesz",
        "outputId": "73a15a53-5a08-45ed-862d-54cebada5945"
      },
      "outputs": [
        {
          "name": "stdout",
          "output_type": "stream",
          "text": [
            "{10: 10, 7: 7}\n"
          ]
        }
      ],
      "source": [
        "\"\"\"dict.pop(key)\n",
        "    This methods removes a specific key-value pair from dictionary.\n",
        "\"\"\"\n",
        "dict = {12: 12, 10: 10, 7:7}\n",
        "dict.pop(12)\n",
        "print(dict)"
      ]
    },
    {
      "cell_type": "code",
      "execution_count": null,
      "metadata": {
        "id": "hWSYxjDVwes0",
        "outputId": "807346e0-820b-485d-e4f0-b1d49c661dbf"
      },
      "outputs": [
        {
          "name": "stdout",
          "output_type": "stream",
          "text": [
            "{12: 12, 10: 10}\n"
          ]
        }
      ],
      "source": [
        "\"\"\"dict.popitem()\n",
        "    This method removes the last key-value pair from dictionary.\n",
        "\"\"\"\n",
        "dict = {12: 12, 10: 10, 7:7}\n",
        "dict.popitem()\n",
        "print(dict)"
      ]
    },
    {
      "cell_type": "code",
      "execution_count": null,
      "metadata": {
        "id": "fCSGK9udwes1",
        "outputId": "265c17e5-c655-4254-dfa5-aa742ee9876d"
      },
      "outputs": [
        {
          "name": "stdout",
          "output_type": "stream",
          "text": [
            "<class 'dict'>\n"
          ]
        }
      ],
      "source": [
        "\"\"\"del\n",
        "    Delete whole dictionary.\n",
        "\"\"\"\n",
        "dict = {12: 12, 10: 10, 7:7}\n",
        "del dict\n",
        "print(dict)"
      ]
    },
    {
      "cell_type": "markdown",
      "metadata": {
        "id": "ZwjWLKz4wes9"
      },
      "source": [
        "# 35. For Loop with Else"
      ]
    },
    {
      "cell_type": "code",
      "execution_count": null,
      "metadata": {
        "id": "rWwb4tlcwes9",
        "outputId": "d84b2176-0118-471b-fef4-b78a45bf8875"
      },
      "outputs": [
        {
          "name": "stdout",
          "output_type": "stream",
          "text": [
            "0\n",
            "1\n",
            "2\n",
            "3\n",
            "4\n",
            "5\n",
            "sorry\n"
          ]
        }
      ],
      "source": [
        "for i in range(6):\n",
        "    print(i)\n",
        "else:\n",
        "    print(\"sorry\")"
      ]
    },
    {
      "cell_type": "code",
      "execution_count": null,
      "metadata": {
        "id": "e-MiET5zwes-",
        "outputId": "9020dab5-2be9-4be5-9471-1a0ee69b53e5"
      },
      "outputs": [
        {
          "name": "stdout",
          "output_type": "stream",
          "text": [
            "1\n",
            "2\n",
            "3\n",
            "4\n",
            "Sorry\n"
          ]
        }
      ],
      "source": [
        "for i in [1,2,3,4]:\n",
        "    print(i)\n",
        "else:\n",
        "    print(\"Sorry\")"
      ]
    },
    {
      "cell_type": "code",
      "execution_count": null,
      "metadata": {
        "id": "nFjp5d5Cwes-",
        "outputId": "638c06f1-6c9f-4631-d3fa-edd57652f844"
      },
      "outputs": [
        {
          "name": "stdout",
          "output_type": "stream",
          "text": [
            "0\n",
            "1\n",
            "2\n",
            "3\n"
          ]
        }
      ],
      "source": [
        "for i in range(6):\n",
        "    print(i)\n",
        "    i = i+1\n",
        "    if i == 4:\n",
        "        break\n",
        "else:\n",
        "    print(\"sorry\")"
      ]
    },
    {
      "cell_type": "markdown",
      "metadata": {
        "id": "6x8sO3jMwes_"
      },
      "source": [
        "# 36. Exception Handling"
      ]
    },
    {
      "cell_type": "markdown",
      "metadata": {
        "id": "krksdiX-wes_"
      },
      "source": [
        "Exception handling is the process of responding to unwanted or unexpected events when a computer program runs. Exception handling deals with these events to avoid the program or system crashing. and without this process, exception would disrupt the normal operation of a program.\n",
        "#### Exception in Python\n",
        "\n",
        "Python has many built-in exceptions that are raised when program encounters an error(something in the program goes wrong)."
      ]
    },
    {
      "cell_type": "code",
      "execution_count": null,
      "metadata": {
        "id": "2afnM1M7wes_",
        "outputId": "4015df2d-a07e-4fe2-ab79-c38ee0d130fd"
      },
      "outputs": [
        {
          "name": "stdout",
          "output_type": "stream",
          "text": [
            "Multiplication table of d is:\n",
            "invalid literal for int() with base 10: 'd'\n",
            "Some imp lines of code\n",
            "End of Program.\n"
          ]
        }
      ],
      "source": [
        "num = input(\"Enter a number > \")\n",
        "print(f\"Multiplication table of {num} is:\")\n",
        "try:\n",
        "    for i in range(1,11):\n",
        "        print(f\"{int(num)}X{i}={int(num)*i}\")\n",
        "except Exception as e:\n",
        "    print(e)\n",
        "\n",
        "print(\"Some imp lines of code\")\n",
        "print(\"End of Program.\")"
      ]
    },
    {
      "cell_type": "code",
      "execution_count": null,
      "metadata": {
        "id": "hqP3WyE8wetA",
        "outputId": "42f2f207-a49c-408c-bf90-4c9523e066fc"
      },
      "outputs": [
        {
          "name": "stdout",
          "output_type": "stream",
          "text": [
            "Oops! That was no valid number. Try again...\n",
            "You entered: 3\n"
          ]
        }
      ],
      "source": [
        "while True:\n",
        "    try:\n",
        "        x = int(input(\"Please enter a number: \"))\n",
        "        print(\"You entered:\",x)\n",
        "        break\n",
        "    except ValueError:\n",
        "        print(\"Oops! That was no valid number. Try again...\")"
      ]
    },
    {
      "cell_type": "code",
      "execution_count": null,
      "metadata": {
        "id": "tfdqL1mXwetA",
        "outputId": "92498ba4-87c2-4289-d8e6-3e44e80aab9b"
      },
      "outputs": [
        {
          "name": "stdout",
          "output_type": "stream",
          "text": [
            "3\n"
          ]
        }
      ],
      "source": [
        "try:\n",
        "    num = int(input(\"Enter an integer: \"))\n",
        "    a = [6,3]\n",
        "    print(a[num])\n",
        "except ValueError:\n",
        "    print(\"Value error\")\n",
        "except IndexError:\n",
        "    print(\"Index error\")"
      ]
    },
    {
      "cell_type": "markdown",
      "metadata": {
        "id": "SPWjVyjpwetA"
      },
      "source": [
        "# 37. Finally keyword"
      ]
    },
    {
      "cell_type": "markdown",
      "metadata": {
        "id": "d5n2oPoKwetB"
      },
      "source": [
        "The finally code block is also a part of exception handling. When we handle exception using the try and except block, we can include a finally block at the end. The finally block is always executed, so it is generally used for doing the concluding tasks like closing file resources or closing database connection or may be ending the program execution with delightful message."
      ]
    },
    {
      "cell_type": "code",
      "execution_count": null,
      "metadata": {
        "id": "Caysl-aPwetB",
        "outputId": "af30e63a-16db-47a1-a5eb-283eeb4b1a8c"
      },
      "outputs": [
        {
          "name": "stdout",
          "output_type": "stream",
          "text": [
            "Something went wrong.\n",
            "I'm always executed.\n",
            "None\n"
          ]
        }
      ],
      "source": [
        "def func1():\n",
        "    try:\n",
        "        l = [1,5,6,7]\n",
        "        i = int(input(\"Enter the index >\"))\n",
        "        print(l[i])\n",
        "    except:\n",
        "        print(\"Something went wrong.\")\n",
        "    finally:\n",
        "        print(\"I'm always executed.\")\n",
        "\n",
        "x = func1()\n",
        "print(x)"
      ]
    },
    {
      "cell_type": "markdown",
      "metadata": {
        "id": "oy6LC_iHwetB"
      },
      "source": [
        "# 38. Raising custom errors"
      ]
    },
    {
      "cell_type": "code",
      "execution_count": null,
      "metadata": {
        "id": "oH6tJ2g1wetB",
        "outputId": "766fc172-d522-480c-bc42-a9c176494838"
      },
      "outputs": [
        {
          "ename": "ValueError",
          "evalue": "Value should be between 5 and 9",
          "output_type": "error",
          "traceback": [
            "\u001b[1;31m---------------------------------------------------------------------------\u001b[0m",
            "\u001b[1;31mValueError\u001b[0m                                Traceback (most recent call last)",
            "Cell \u001b[1;32mIn[7], line 3\u001b[0m\n\u001b[0;32m      1\u001b[0m a \u001b[39m=\u001b[39m \u001b[39mint\u001b[39m(\u001b[39minput\u001b[39m(\u001b[39m\"\u001b[39m\u001b[39mEnter any value between 5 and 9\u001b[39m\u001b[39m\"\u001b[39m))\n\u001b[0;32m      2\u001b[0m \u001b[39mif\u001b[39;00m(a\u001b[39m<\u001b[39m\u001b[39m5\u001b[39m \u001b[39mor\u001b[39;00m a\u001b[39m>\u001b[39m\u001b[39m9\u001b[39m):\n\u001b[1;32m----> 3\u001b[0m     \u001b[39mraise\u001b[39;00m \u001b[39mValueError\u001b[39;00m(\u001b[39m\"\u001b[39m\u001b[39mValue should be between 5 and 9\u001b[39m\u001b[39m\"\u001b[39m)\n",
            "\u001b[1;31mValueError\u001b[0m: Value should be between 5 and 9"
          ]
        }
      ],
      "source": [
        "a = int(input(\"Enter any value between 5 and 9\"))\n",
        "if(a<5 or a>9):\n",
        "    raise ValueError(\"Value should be between 5 and 9\")"
      ]
    },
    {
      "cell_type": "markdown",
      "metadata": {
        "id": "slPC2Sd6wetC"
      },
      "source": [
        "# 39. Kaun Banega Carorepati Exercise 3 Solution"
      ]
    },
    {
      "cell_type": "code",
      "execution_count": null,
      "metadata": {
        "id": "fFZUrd-LwetC",
        "outputId": "1249c3b1-969a-4fdc-91aa-66ba3e99f363"
      },
      "outputs": [
        {
          "name": "stdout",
          "output_type": "stream",
          "text": [
            "Question for Rs.1000\n",
            "a.Python     b.French\n",
            "c.Javascript     d.PHP\n",
            "Correct answer, you have won Rs. 1000\n",
            "Question for Rs.2000\n",
            "a.Python     b.French\n",
            "c.Javascript     d.PHP\n",
            "Correct answer, you have won Rs. 2000\n",
            "Question for Rs.3000\n",
            "a.Python     b.French\n",
            "c.Javascript     d.PHP\n"
          ]
        },
        {
          "ename": "ValueError",
          "evalue": "invalid literal for int() with base 10: ''",
          "output_type": "error",
          "traceback": [
            "\u001b[1;31m---------------------------------------------------------------------------\u001b[0m",
            "\u001b[1;31mValueError\u001b[0m                                Traceback (most recent call last)",
            "Cell \u001b[1;32mIn[7], line 16\u001b[0m\n\u001b[0;32m     14\u001b[0m \u001b[39mprint\u001b[39m(\u001b[39mf\u001b[39m\u001b[39m\"\u001b[39m\u001b[39ma.\u001b[39m\u001b[39m{\u001b[39;00mquestion[\u001b[39m1\u001b[39m]\u001b[39m}\u001b[39;00m\u001b[39m     b.\u001b[39m\u001b[39m{\u001b[39;00mquestion[\u001b[39m2\u001b[39m]\u001b[39m}\u001b[39;00m\u001b[39m\"\u001b[39m)\n\u001b[0;32m     15\u001b[0m \u001b[39mprint\u001b[39m(\u001b[39mf\u001b[39m\u001b[39m\"\u001b[39m\u001b[39mc.\u001b[39m\u001b[39m{\u001b[39;00mquestion[\u001b[39m3\u001b[39m]\u001b[39m}\u001b[39;00m\u001b[39m     d.\u001b[39m\u001b[39m{\u001b[39;00mquestion[\u001b[39m4\u001b[39m]\u001b[39m}\u001b[39;00m\u001b[39m\"\u001b[39m)\n\u001b[1;32m---> 16\u001b[0m reply \u001b[39m=\u001b[39m \u001b[39mint\u001b[39;49m(\u001b[39minput\u001b[39;49m(\u001b[39m\"\u001b[39;49m\u001b[39mEnter your answer (1-4)\u001b[39;49m\u001b[39m\"\u001b[39;49m))\n\u001b[0;32m     17\u001b[0m \u001b[39mif\u001b[39;00m(reply\u001b[39m==\u001b[39mquestion[\u001b[39m-\u001b[39m\u001b[39m1\u001b[39m]):\n\u001b[0;32m     18\u001b[0m     \u001b[39mprint\u001b[39m(\u001b[39mf\u001b[39m\u001b[39m\"\u001b[39m\u001b[39mCorrect answer, you have won Rs. \u001b[39m\u001b[39m{\u001b[39;00mlevels[i]\u001b[39m}\u001b[39;00m\u001b[39m\"\u001b[39m)\n",
            "\u001b[1;31mValueError\u001b[0m: invalid literal for int() with base 10: ''"
          ]
        }
      ],
      "source": [
        "questions = [[\"which language was used to create fb?\", \"Python\", \"French\", \"Javascript\", \"PHP\", \"None\", 4],\n",
        "             [\"which language was used to create fb?\", \"Python\", \"French\", \"Javascript\", \"PHP\", \"None\", 4],\n",
        "             [\"which language was used to create fb?\", \"Python\", \"French\", \"Javascript\", \"PHP\", \"None\", 4],\n",
        "             [\"which language was used to create fb?\", \"Python\", \"French\", \"Javascript\", \"PHP\", \"None\", 4]\n",
        "            ]\n",
        "\n",
        "levels = [1000, 2000, 3000, 5000, 10000, 20000, 40000, 80000, 160000, 320000]\n",
        "money = 0\n",
        "\n",
        "i = 0\n",
        "for i in range(0, len(questions)):\n",
        "    question = questions[i]\n",
        "    print(f\"Question for Rs.{levels[i]}\")\n",
        "    print(f\"a.{question[1]}     b.{question[2]}\")\n",
        "    print(f\"c.{question[3]}     d.{question[4]}\")\n",
        "    reply = int(input(\"Enter your answer (1-4)\"))\n",
        "    if(reply==question[-1]):\n",
        "        print(f\"Correct answer, you have won Rs. {levels[i]}\")\n",
        "        if(i==4):\n",
        "            money = 10000\n",
        "        elif(i==9):\n",
        "            money = 320000\n",
        "        elif(i==14):\n",
        "            money = 10000000\n",
        "    else:\n",
        "        print(\"Wrong answer\")\n",
        "        break"
      ]
    },
    {
      "cell_type": "markdown",
      "metadata": {
        "id": "ocjc61t4wetD"
      },
      "source": [
        "# 40. Exercise 4\n"
      ]
    },
    {
      "cell_type": "markdown",
      "metadata": {
        "id": "lNWlYC7YwetD"
      },
      "source": [
        "Write a python program to translate a message into secret code language. Use the rules to translate normal english into secret code language.\n",
        "\n",
        "#Coding\n",
        "\n",
        "if the word contains atleast 3 characters, remove the first letter and append it at the end now append three random characters at the startinga and the end.\n",
        "else:\n",
        "simple reverse the string.\n",
        "\n",
        "#Decoding\n",
        "\n",
        "if the word contains less than 3 characters, reverse it.\n",
        "else:\n",
        "remove 3 random characters from start and end. Now remove the last letter and append it to the beginning.\n",
        "\n",
        "Your program should ask whether you want to code or decode."
      ]
    },
    {
      "cell_type": "code",
      "execution_count": null,
      "metadata": {
        "id": "6JYPjcq6wetE"
      },
      "outputs": [],
      "source": []
    }
  ],
  "metadata": {
    "kernelspec": {
      "display_name": "Python 3",
      "language": "python",
      "name": "python3"
    },
    "language_info": {
      "codemirror_mode": {
        "name": "ipython",
        "version": 3
      },
      "file_extension": ".py",
      "mimetype": "text/x-python",
      "name": "python",
      "nbconvert_exporter": "python",
      "pygments_lexer": "ipython3",
      "version": "3.11.2"
    },
    "orig_nbformat": 4,
    "vscode": {
      "interpreter": {
        "hash": "5238573367df39f7286bb46f9ff5f08f63a01a80960060ce41e3c79b190280fa"
      }
    },
    "colab": {
      "provenance": [],
      "include_colab_link": true
    }
  },
  "nbformat": 4,
  "nbformat_minor": 0
}