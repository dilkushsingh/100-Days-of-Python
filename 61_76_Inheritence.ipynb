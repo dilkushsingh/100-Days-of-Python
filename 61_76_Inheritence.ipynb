{
  "cells": [
    {
      "cell_type": "markdown",
      "metadata": {
        "id": "view-in-github",
        "colab_type": "text"
      },
      "source": [
        "<a href=\"https://colab.research.google.com/github/dilkushsingh/My-Python-Learning/blob/main/61_76_Inheritence.ipynb\" target=\"_parent\"><img src=\"https://colab.research.google.com/assets/colab-badge.svg\" alt=\"Open In Colab\"/></a>"
      ]
    },
    {
      "cell_type": "markdown",
      "metadata": {
        "id": "Hdmlsz9SzCL1"
      },
      "source": [
        "# 61. Inheritance"
      ]
    },
    {
      "cell_type": "markdown",
      "metadata": {
        "id": "MHjENaMlzCL8"
      },
      "source": [
        "When a class derives from antoher class. The child class will inherit all the public and protected properties and methods from the parent class. In addition, it can have its own properties and methods, this is called as inheritance.\n",
        "\n",
        "#### Types of Inheritance -\n",
        "1. Single inheritance\n",
        "2. Multiple inheritance\n",
        "3. Multilevel inheritance\n",
        "4. Hierarchical inheritance\n",
        "5. Hybrid inheritance"
      ]
    },
    {
      "cell_type": "code",
      "execution_count": null,
      "metadata": {
        "id": "GLZhLjNgzCL_",
        "outputId": "1c9f7bb1-a0be-443e-c618-f1dcada19af5"
      },
      "outputs": [
        {
          "name": "stdout",
          "output_type": "stream",
          "text": [
            "The name of Employeee: 400 is Rohan das\n",
            "The default language is python\n"
          ]
        }
      ],
      "source": [
        "class Employee:\n",
        "    def __init__(self, name, id):\n",
        "        self.name = name\n",
        "        self.id = id\n",
        "\n",
        "    def showDetails(self):\n",
        "        print(f\"The name of Employeee: {self.id} is {self.name}\")\n",
        "\n",
        "class Programmer(Employee):\n",
        "    def showLanguage(self):\n",
        "        print(\"The default language is python\")\n",
        "\n",
        "e1 = Employee(\"Rohan das\", 400)\n",
        "e1.showDetails()\n",
        "\n",
        "e2 = Programmer(\"Dilkhush\", 401)\n",
        "e2.showLanguage()"
      ]
    },
    {
      "cell_type": "markdown",
      "metadata": {
        "id": "lt56Q7xazCMC"
      },
      "source": [
        "# 62. Access Modifiers\n",
        "Access specifies or access modifiers in python programming are used to limit the access of class variables and class methods outside of class while implementing the concepts of inheritence.\n",
        "### Types of access modifiers\n",
        "1. Public access modifier\n",
        "2. Private access modifier\n",
        "3. Protected access modifier\n",
        "### Public access modifier\n",
        "All the variables and methods in python are by default public. Any instance variable in a class followed by the 'self' keyword i.e. self.var_name are public accessed."
      ]
    },
    {
      "cell_type": "code",
      "execution_count": null,
      "metadata": {
        "id": "qHnDZGsUzCMD",
        "outputId": "d540d567-de56-4bbd-c72b-ae9451d78ad9"
      },
      "outputs": [
        {
          "name": "stdout",
          "output_type": "stream",
          "text": [
            "19\n",
            "Dilkhush\n"
          ]
        }
      ],
      "source": [
        "class Student:\n",
        "    def __init__(self, age, name):\n",
        "        self.age = age\n",
        "        self.name = name\n",
        "\n",
        "obj = Student(19, 'Dilkhush')\n",
        "print(obj.age)\n",
        "print(obj.name)"
      ]
    },
    {
      "cell_type": "markdown",
      "metadata": {
        "id": "XDGUDHFIzCME"
      },
      "source": [
        "### Private access modifier\n",
        "Private members of a class(variables or methods) are those members which are only accessible inside the class. We cannot use private members outside of class.\n",
        "#\n",
        "Note - In python there is no strict concept of 'private' access modifiers like in some other programming languages. However, a convension has been established to indicate that a variable or method should be considered private by prefixing its name with a double underscore(__)."
      ]
    },
    {
      "cell_type": "code",
      "execution_count": null,
      "metadata": {
        "id": "vquLEp2dzCMF",
        "outputId": "34efac71-0439-41fc-8980-33acae041b99"
      },
      "outputs": [
        {
          "name": "stdout",
          "output_type": "stream",
          "text": [
            "Dilkhush\n"
          ]
        }
      ],
      "source": [
        "class Employee:\n",
        "    def __init__(self):\n",
        "        self.__name = 'Dilkhush'\n",
        "\n",
        "a = Employee()\n",
        "# print(a.__name) # Cannot be accessed directly.\n",
        "print(a._Employee__name) # can be accessed indirectly."
      ]
    },
    {
      "cell_type": "markdown",
      "metadata": {
        "id": "QIiRuYi3zCMG"
      },
      "source": [
        "#### Name mangling\n",
        "Name mangling in Python is a technique used to protect class-private and superclass-private attributes from being accidently overwritten by subclass. Names of class-private and superclass-private attributes are transformed by the addition of a single leading underscore and a double leading underscore respectively.\n",
        "### Protected access modifier\n",
        "In object oriented programming(OOP), the term 'protected' is used to describe a member(method or attribute) of a class that is intended to be accessed only by the class itself and its subclasses. In Python, the convention for indicating that a member is protected is to prefix its name with a single underscore(_)."
      ]
    },
    {
      "cell_type": "code",
      "execution_count": null,
      "metadata": {
        "id": "FCZBYgmgzCMH",
        "outputId": "c0d8c1d5-bc4b-459b-c4f2-b5f2a8d13a64"
      },
      "outputs": [
        {
          "name": "stdout",
          "output_type": "stream",
          "text": [
            "dilkhush\n",
            "CodeWithHarry\n",
            "dilkhush\n",
            "CodeWithHarry\n"
          ]
        }
      ],
      "source": [
        "class Student:\n",
        "    def __init__(self):\n",
        "        self._name = 'dilkhush'\n",
        "\n",
        "    def _funName(self):\n",
        "        return 'CodeWithHarry'\n",
        "\n",
        "class Subject(Student):\n",
        "    pass\n",
        "\n",
        "obj = Student()\n",
        "obj1 = Subject()\n",
        "\n",
        "# calling by object of Student class\n",
        "print(obj._name)\n",
        "print(obj._funName())\n",
        "# calling by object of Subject class\n",
        "print(obj1._name)\n",
        "print(obj1._funName())"
      ]
    },
    {
      "cell_type": "markdown",
      "metadata": {
        "id": "6TebE3klzCMI"
      },
      "source": [
        "# 63. Snake Water Gun Game"
      ]
    },
    {
      "cell_type": "code",
      "execution_count": null,
      "metadata": {
        "id": "XJcQwmR8zCMI",
        "outputId": "1419090a-cd05-4024-8423-477f04b8cdc9"
      },
      "outputs": [
        {
          "name": "stdout",
          "output_type": "stream",
          "text": [
            "You: Water\n",
            "Computer: Gun\n",
            "User Won\n"
          ]
        }
      ],
      "source": [
        "import random\n",
        "user = int(input(\"0 for Snake, 1 for Water and 2 for Gun\"))\n",
        "comp = random.randint(0,2)\n",
        "\n",
        "def check(comp, user):\n",
        "    if comp == user:\n",
        "        return 'Its Draw'\n",
        "    elif(comp == 0 and user == 1):\n",
        "        return 'Computer Won'\n",
        "    elif(comp == 0 and user == 2):\n",
        "        return 'User Won'\n",
        "    elif(comp == 1 and user == 0):\n",
        "        return 'User Won'\n",
        "    elif(comp == 1 and user == 2):\n",
        "        return 'Computer Won'\n",
        "    elif(comp == 2 and user == 0):\n",
        "        return 'Computer Won'\n",
        "    elif(comp == 2 and user == 1):\n",
        "        return 'User Won'\n",
        "    else:\n",
        "        return 'invalid input'\n",
        "\n",
        "print('You: Snake') if(user==0) else print('You: Water') if(user==1) else print('You: Gun')\n",
        "print('Computer: Snake') if(comp==0) else print('Computer: Water') if(comp==1) else print('Computer: Gun')\n",
        "print(check(comp,user))"
      ]
    },
    {
      "cell_type": "markdown",
      "metadata": {
        "id": "9oGylpalzCMJ"
      },
      "source": [
        "# 64. Exercise 6 - Library Management System\n",
        "Write a Library class with no_of_books and books as two instance variables. Write a program to create a library from this library class and show how you can print all books, add a book and get the number of books using different methods. Show that your program doesnt persist the books after the program is stopped."
      ]
    },
    {
      "cell_type": "markdown",
      "metadata": {
        "id": "DXyKkwKyzCMJ"
      },
      "source": [
        "# 65. Static Methods in Python\n",
        "Static methods in Python are methods that belong to a class rather than an instance of the class. They are defined using the @staticmethod decorator and do not have access to the instance of the class (i.e.self). They are called on the class itself, not on an instance of the class. Static methods are often used to create utility functions that don't need access to instace data."
      ]
    },
    {
      "cell_type": "code",
      "execution_count": null,
      "metadata": {
        "id": "WwDE0ZhvzCMK",
        "outputId": "e636b7f7-053d-4f7a-a86f-16f64460598c"
      },
      "outputs": [
        {
          "name": "stdout",
          "output_type": "stream",
          "text": [
            "8\n"
          ]
        }
      ],
      "source": [
        "class Math:\n",
        "    @staticmethod\n",
        "    def add(a,b):\n",
        "        return a+b\n",
        "\n",
        "result = Math.add(3,5)\n",
        "print(result)"
      ]
    },
    {
      "cell_type": "markdown",
      "metadata": {
        "id": "3Oq5O5EbzCMK"
      },
      "source": [
        "# 66. Instance variables vs Class variables\n",
        "In Python, variables can be defined at the class level or at the instance level. Understandig the difference between these types of variables is crucial for writing efficient and maintainable code.\n",
        "### Class Variables\n",
        "Class variables are defined at the class level and are shared among all instance of the class. They are defined outsides of any method and are usually used to store information that is common to all instaces of the class. For example, a class variable can be used to store the number of instances of a class that have been created.\n",
        "### Instance Variables\n",
        "Instance variables are defined at the instance level and are unique to each instance of the class. They are defined inside the init method and are usually used to store information that is specific to each instance of the class.\n"
      ]
    },
    {
      "cell_type": "code",
      "execution_count": null,
      "metadata": {
        "id": "JW7QsD__zCMK",
        "outputId": "ad55d4a2-a533-4229-bfd5-e1bbec78be46"
      },
      "outputs": [
        {
          "name": "stdout",
          "output_type": "stream",
          "text": [
            "The name of the Employee is Dilkhush and the raise amount in 1 sized Apple India is 0.3\n",
            "The name of the Employee is Rahul and the raise amount in 2 sized Apple is 0.2\n"
          ]
        }
      ],
      "source": [
        "class Employee:\n",
        "    companyName = 'Apple'\n",
        "    noOfEmployees = 0\n",
        "    def __init__(self,name):\n",
        "        self.name = name\n",
        "        self.raise_amount = 0.2\n",
        "        Employee.noOfEmployees +=1\n",
        "\n",
        "    def showDetails(self):\n",
        "        print(f'The name of the Employee is {self.name} and the raise amount in {self.noOfEmployees} sized {self.companyName} is {self.raise_amount}')\n",
        "\n",
        "emp1 = Employee('Dilkhush')\n",
        "emp1.raise_amount = 0.3\n",
        "emp1.companyName = 'Apple India'\n",
        "emp1.showDetails()\n",
        "\n",
        "emp2 = Employee('Rahul')\n",
        "emp2.showDetails()"
      ]
    },
    {
      "cell_type": "markdown",
      "metadata": {
        "id": "u01rXMUwzCML"
      },
      "source": [
        "# 67. Exercise 6 - Solution Library Management System"
      ]
    },
    {
      "cell_type": "code",
      "execution_count": null,
      "metadata": {
        "id": "ACzWt_h3zCML",
        "outputId": "f1ebefc5-b8f8-4841-e73e-f318e4521921"
      },
      "outputs": [
        {
          "name": "stdout",
          "output_type": "stream",
          "text": [
            "['Five Point Someone']\n",
            "Library have total books 2 and registered books are 2\n"
          ]
        }
      ],
      "source": [
        "class Library:\n",
        "    noOfBooks = 0\n",
        "    books = []\n",
        "    def __init__(self, book):\n",
        "        self.books.append(book)\n",
        "        Library.noOfBooks += 1\n",
        "    def bookNames(self):\n",
        "        for i in Library.books:\n",
        "            print(Library.books)\n",
        "    def totalBooks(self):\n",
        "        print(f'Library have total books {self.noOfBooks} and registered books are {len(Library.books)}')\n",
        "\n",
        "book1 = Library('Five Point Someone')\n",
        "Library.bookNames(Library.books)\n",
        "\n",
        "book2 = Library('400 Days')\n",
        "book2.totalBooks()\n"
      ]
    },
    {
      "cell_type": "markdown",
      "metadata": {
        "id": "PvnagVWDzCMM"
      },
      "source": [
        "# 68. Exercise 7 - Clear and Clutter\n",
        "Write a program to clear the clutter inside a folder on your computer. You should use OS module to rename all the png images from 1.png all the way till n.png where n is the number of png files in that folder. Do the same for other file formats."
      ]
    },
    {
      "cell_type": "markdown",
      "metadata": {
        "id": "GYkqb1LQzCMM"
      },
      "source": [
        "# 69. Class Methods\n",
        "A class method is a type of method that is bound to the class and not the instance of the class. In other words, it operates on the class as a whole, rather than on a specific instace of the class.\n",
        "#\n",
        "Class methods are defined using the @classmethod decorator, followed by a function definition. The first argument of the function is always 'cls', which represents the class itself."
      ]
    },
    {
      "cell_type": "code",
      "execution_count": null,
      "metadata": {
        "id": "uYfNlUuKzCMN",
        "outputId": "73f9f71f-f92a-4f5a-d32d-0d2b6b7dacb9"
      },
      "outputs": [
        {
          "name": "stdout",
          "output_type": "stream",
          "text": [
            "The name is dilkhush and company is Apple\n",
            "The name is dilkhush and company is Tesla\n",
            "Tesla\n"
          ]
        }
      ],
      "source": [
        "class Employee:\n",
        "    company ='Apple'\n",
        "    def show(self):\n",
        "        print(f'The name is {self.name} and company is {self.company}')\n",
        "\n",
        "    @classmethod\n",
        "    def changeCompany(cls, newCompany):\n",
        "        cls.company = newCompany\n",
        "\n",
        "e1 = Employee()\n",
        "e1.name = 'dilkhush'\n",
        "e1.show()\n",
        "e1.changeCompany('Tesla')\n",
        "e1.show()\n",
        "print(Employee.company)"
      ]
    },
    {
      "cell_type": "markdown",
      "metadata": {
        "id": "YRlny5PfzCMN"
      },
      "source": [
        "# 70. Class Methods as Alternative Constructors\n",
        "In object-oriented programming the term 'constructor' refers to a special type of method that is automatically executed when an object is created from a class. The purpose of a constructor is to initialize the object's attributes, allowing the object to be fully functional and ready to use.\n",
        "#\n",
        "A class method belongs to the class rather than to an instance of the class. One common use case for class methods as alternative constructors is when you want to create an object from data that is stored in a different format, such as a string or a dictionary."
      ]
    },
    {
      "cell_type": "code",
      "execution_count": null,
      "metadata": {
        "id": "5MZp-9qSzCMN",
        "outputId": "1e731fee-4905-468f-950b-23117e17db69"
      },
      "outputs": [
        {
          "name": "stdout",
          "output_type": "stream",
          "text": [
            "dilkhush\n",
            "4500000\n",
            "John\n",
            "2300000\n"
          ]
        }
      ],
      "source": [
        "class Employee:\n",
        "    def __init__(self, name, salary):\n",
        "        self.name = name\n",
        "        self.salary = salary\n",
        "\n",
        "    @classmethod\n",
        "    def fromStr(cls, string):\n",
        "        return cls(string.split(\"-\")[0], int(string.split('-')[1]))\n",
        "\n",
        "e1 = Employee('dilkhush', 4500000)\n",
        "print(e1.name)\n",
        "print(e1.salary)\n",
        "\n",
        "string = 'John-2300000'\n",
        "e2 = Employee.fromStr(string)\n",
        "print(e2.name)\n",
        "print(e2.salary)"
      ]
    },
    {
      "cell_type": "markdown",
      "metadata": {
        "id": "xVB8xjhRzCMO"
      },
      "source": [
        "# 71. dir(), \\_\\_dict\\_\\_ and help() method\n",
        "### The dir() method\n",
        "dir(): The dir() function returns a list of all the attributes and methods(including dunder methods) available for an object. It is a useful tool for discovering what you can do with an object."
      ]
    },
    {
      "cell_type": "code",
      "execution_count": null,
      "metadata": {
        "id": "LaXzdzdZzCMO",
        "outputId": "62131d27-8493-42e0-cdb5-9917149dab52"
      },
      "outputs": [
        {
          "name": "stdout",
          "output_type": "stream",
          "text": [
            "['__add__', '__class__', '__class_getitem__', '__contains__', '__delattr__', '__delitem__', '__dir__', '__doc__', '__eq__', '__format__', '__ge__', '__getattribute__', '__getitem__', '__getstate__', '__gt__', '__hash__', '__iadd__', '__imul__', '__init__', '__init_subclass__', '__iter__', '__le__', '__len__', '__lt__', '__mul__', '__ne__', '__new__', '__reduce__', '__reduce_ex__', '__repr__', '__reversed__', '__rmul__', '__setattr__', '__setitem__', '__sizeof__', '__str__', '__subclasshook__', 'append', 'clear', 'copy', 'count', 'extend', 'index', 'insert', 'pop', 'remove', 'reverse', 'sort']\n"
          ]
        }
      ],
      "source": [
        "x = [1,2,3,4,5]\n",
        "print(dir(x))"
      ]
    },
    {
      "cell_type": "markdown",
      "metadata": {
        "id": "jlfCOpfmzCMP"
      },
      "source": [
        "### The \\_\\_dict\\_\\_ attribute\n",
        "\\_\\_dict\\_\\_: The \\_\\_dict\\_\\_ attribute returns a dictionary representation of an object's attributes. It is a useful tool for introspection."
      ]
    },
    {
      "cell_type": "code",
      "execution_count": null,
      "metadata": {
        "id": "t5fYQKWyzCMP",
        "outputId": "876fd82d-1f2f-4f8f-95ae-07e01ff49a4a"
      },
      "outputs": [
        {
          "data": {
            "text/plain": [
              "{'name': 'John', 'age': 30, 'version': 1.0}"
            ]
          },
          "execution_count": 12,
          "metadata": {},
          "output_type": "execute_result"
        }
      ],
      "source": [
        "class Person:\n",
        "    def __init__(self, name, age):\n",
        "        self.name = name\n",
        "        self.age = age\n",
        "        self.version = 1.0\n",
        "\n",
        "p = Person('John',30)\n",
        "p.__dict__"
      ]
    },
    {
      "cell_type": "markdown",
      "metadata": {
        "id": "29j0St2IzCMQ"
      },
      "source": [
        "### The help() method\n",
        "help(): The help() function is used to get help documentation for an object. including a description of its attributes and methods."
      ]
    },
    {
      "cell_type": "code",
      "execution_count": null,
      "metadata": {
        "id": "t6BpLz4PzCMQ",
        "outputId": "ab3df456-0c32-4668-ee40-2187c241e123"
      },
      "outputs": [
        {
          "name": "stdout",
          "output_type": "stream",
          "text": [
            "Help on class list in module builtins:\n",
            "\n",
            "class list(object)\n",
            " |  list(iterable=(), /)\n",
            " |  \n",
            " |  Built-in mutable sequence.\n",
            " |  \n",
            " |  If no argument is given, the constructor creates a new empty list.\n",
            " |  The argument must be an iterable if specified.\n",
            " |  \n",
            " |  Methods defined here:\n",
            " |  \n",
            " |  __add__(self, value, /)\n",
            " |      Return self+value.\n",
            " |  \n",
            " |  __contains__(self, key, /)\n",
            " |      Return key in self.\n",
            " |  \n",
            " |  __delitem__(self, key, /)\n",
            " |      Delete self[key].\n",
            " |  \n",
            " |  __eq__(self, value, /)\n",
            " |      Return self==value.\n",
            " |  \n",
            " |  __ge__(self, value, /)\n",
            " |      Return self>=value.\n",
            " |  \n",
            " |  __getattribute__(self, name, /)\n",
            " |      Return getattr(self, name).\n",
            " |  \n",
            " |  __getitem__(...)\n",
            " |      x.__getitem__(y) <==> x[y]\n",
            " |  \n",
            " |  __gt__(self, value, /)\n",
            " |      Return self>value.\n",
            " |  \n",
            " |  __iadd__(self, value, /)\n",
            " |      Implement self+=value.\n",
            " |  \n",
            " |  __imul__(self, value, /)\n",
            " |      Implement self*=value.\n",
            " |  \n",
            " |  __init__(self, /, *args, **kwargs)\n",
            " |      Initialize self.  See help(type(self)) for accurate signature.\n",
            " |  \n",
            " |  __iter__(self, /)\n",
            " |      Implement iter(self).\n",
            " |  \n",
            " |  __le__(self, value, /)\n",
            " |      Return self<=value.\n",
            " |  \n",
            " |  __len__(self, /)\n",
            " |      Return len(self).\n",
            " |  \n",
            " |  __lt__(self, value, /)\n",
            " |      Return self<value.\n",
            " |  \n",
            " |  __mul__(self, value, /)\n",
            " |      Return self*value.\n",
            " |  \n",
            " |  __ne__(self, value, /)\n",
            " |      Return self!=value.\n",
            " |  \n",
            " |  __repr__(self, /)\n",
            " |      Return repr(self).\n",
            " |  \n",
            " |  __reversed__(self, /)\n",
            " |      Return a reverse iterator over the list.\n",
            " |  \n",
            " |  __rmul__(self, value, /)\n",
            " |      Return value*self.\n",
            " |  \n",
            " |  __setitem__(self, key, value, /)\n",
            " |      Set self[key] to value.\n",
            " |  \n",
            " |  __sizeof__(self, /)\n",
            " |      Return the size of the list in memory, in bytes.\n",
            " |  \n",
            " |  append(self, object, /)\n",
            " |      Append object to the end of the list.\n",
            " |  \n",
            " |  clear(self, /)\n",
            " |      Remove all items from list.\n",
            " |  \n",
            " |  copy(self, /)\n",
            " |      Return a shallow copy of the list.\n",
            " |  \n",
            " |  count(self, value, /)\n",
            " |      Return number of occurrences of value.\n",
            " |  \n",
            " |  extend(self, iterable, /)\n",
            " |      Extend list by appending elements from the iterable.\n",
            " |  \n",
            " |  index(self, value, start=0, stop=9223372036854775807, /)\n",
            " |      Return first index of value.\n",
            " |      \n",
            " |      Raises ValueError if the value is not present.\n",
            " |  \n",
            " |  insert(self, index, object, /)\n",
            " |      Insert object before index.\n",
            " |  \n",
            " |  pop(self, index=-1, /)\n",
            " |      Remove and return item at index (default last).\n",
            " |      \n",
            " |      Raises IndexError if list is empty or index is out of range.\n",
            " |  \n",
            " |  remove(self, value, /)\n",
            " |      Remove first occurrence of value.\n",
            " |      \n",
            " |      Raises ValueError if the value is not present.\n",
            " |  \n",
            " |  reverse(self, /)\n",
            " |      Reverse *IN PLACE*.\n",
            " |  \n",
            " |  sort(self, /, *, key=None, reverse=False)\n",
            " |      Sort the list in ascending order and return None.\n",
            " |      \n",
            " |      The sort is in-place (i.e. the list itself is modified) and stable (i.e. the\n",
            " |      order of two equal elements is maintained).\n",
            " |      \n",
            " |      If a key function is given, apply it once to each list item and sort them,\n",
            " |      ascending or descending, according to their function values.\n",
            " |      \n",
            " |      The reverse flag can be set to sort in descending order.\n",
            " |  \n",
            " |  ----------------------------------------------------------------------\n",
            " |  Class methods defined here:\n",
            " |  \n",
            " |  __class_getitem__(...) from builtins.type\n",
            " |      See PEP 585\n",
            " |  \n",
            " |  ----------------------------------------------------------------------\n",
            " |  Static methods defined here:\n",
            " |  \n",
            " |  __new__(*args, **kwargs) from builtins.type\n",
            " |      Create and return a new object.  See help(type) for accurate signature.\n",
            " |  \n",
            " |  ----------------------------------------------------------------------\n",
            " |  Data and other attributes defined here:\n",
            " |  \n",
            " |  __hash__ = None\n",
            "\n"
          ]
        }
      ],
      "source": [
        "help(list)"
      ]
    },
    {
      "cell_type": "markdown",
      "metadata": {
        "id": "dxlGY5uYzCMQ"
      },
      "source": [
        "# 72. Super keyword\n",
        "The super() keyword in Python is used to refer to the parent class. It is especially useful when a class inherits from multiple parent classes and you want to call a method from one of the parent classes.\n",
        "#\n",
        "When a class inherits from a parent class, it can override or extend the methods defined in the parent class. However, sometimes you might want to use the parent class method in the child class. This is where the super() keyword comes in handy.\n"
      ]
    },
    {
      "cell_type": "code",
      "execution_count": null,
      "metadata": {
        "id": "vx9b6ZMbzCMR",
        "outputId": "fff05a2c-5fdc-412a-f258-a3cfba09383b"
      },
      "outputs": [
        {
          "name": "stdout",
          "output_type": "stream",
          "text": [
            "This is the child method.\n",
            "This is the parent method.\n",
            "Parent method of child class.\n"
          ]
        }
      ],
      "source": [
        "class ParentClass:\n",
        "    def parent_method(self):\n",
        "        print('This is the parent method.')\n",
        "\n",
        "class ChildClass(ParentClass):\n",
        "    def child_method(self):\n",
        "        print('This is the child method.')\n",
        "        super().parent_method()\n",
        "    def parent_method(self):\n",
        "        print('Parent method of child class.')\n",
        "\n",
        "child_object = ChildClass()\n",
        "child_object.child_method()\n",
        "child_object.parent_method()"
      ]
    },
    {
      "cell_type": "code",
      "execution_count": null,
      "metadata": {
        "id": "MZJnf6QMzCMR",
        "outputId": "f7400fd1-3a76-4116-e1e6-28323ff483c0"
      },
      "outputs": [
        {
          "name": "stdout",
          "output_type": "stream",
          "text": [
            "Dilkhush\n"
          ]
        }
      ],
      "source": [
        "class Employee:\n",
        "    def __init__(self, name, id):\n",
        "        self.name = name\n",
        "        self.id = id\n",
        "\n",
        "class Programmer(Employee):\n",
        "    def __init__(self, name, id, lang):\n",
        "        super().__init__(name, id)\n",
        "        self.lang = lang\n",
        "\n",
        "rohan = Employee('Rohan', '123')\n",
        "dilkhush = Programmer('Dilkhush', 234, 'Python')\n",
        "print(dilkhush.name)"
      ]
    },
    {
      "cell_type": "markdown",
      "metadata": {
        "id": "-yECxuP-zCMR"
      },
      "source": [
        "# 73. Magic/Dunder methods\n",
        "These are special methods that you can define in your classes, and when invoked, they give you a powerful way to manipulate objects and their behaviour.\n",
        "#\n",
        "Magic methods, also known as 'dunders' from the double underscores surrounding their names, are powerful tools that allow you to customize the behaviour of your classes. They are used to implement special methods such as the addition, subtraction and comparison operators, as well as some more advanced techniques like descriptors and properties.\n",
        "### \\_\\_init\\_\\_ method\n",
        "The init method is a special method that is automatically invoked when you create a new instance of a class. This method is responsible for setting up the objects initial state, and it is where you would typically define any instance variables that you need. Also called 'constructor'."
      ]
    },
    {
      "cell_type": "code",
      "execution_count": null,
      "metadata": {
        "id": "K5oFBCCzzCMR",
        "outputId": "25a8f529-1102-4d98-83df-bf79a58751fc"
      },
      "outputs": [
        {
          "name": "stdout",
          "output_type": "stream",
          "text": [
            "dilkhush\n",
            "8\n"
          ]
        }
      ],
      "source": [
        "class Employee:\n",
        "    name = 'dilkhush'\n",
        "    def __len__(self):\n",
        "        i = 0\n",
        "        for c in self.name:\n",
        "            i += 1\n",
        "        return i\n",
        "e = Employee()\n",
        "print(e.name)\n",
        "print(len(e))"
      ]
    },
    {
      "cell_type": "markdown",
      "metadata": {
        "id": "2fwzj7iPzCMS"
      },
      "source": [
        "### \\_\\_str\\_\\_ and \\_\\_repr\\_\\_ methods\n",
        "The str and repr methods are both used to convert an object to a string representation. The str method is used when you want to print out an object. While the repr method is used when you want to get a string representation of an object that can be used to recreate the object."
      ]
    },
    {
      "cell_type": "code",
      "execution_count": null,
      "metadata": {
        "id": "Yn-Kr3GGzCMS",
        "outputId": "e14960a0-dbed-4549-bf0d-3b3870cfe2b7"
      },
      "outputs": [
        {
          "name": "stdout",
          "output_type": "stream",
          "text": [
            "The name of the Employee is dilkhush\n",
            "Employee dilkhush\n"
          ]
        }
      ],
      "source": [
        "class Employee:\n",
        "    def __init__(self, name):\n",
        "        self.name = name\n",
        "    def __str__(self):\n",
        "        return f'The name of the Employee is {self.name}'\n",
        "    def __repr__(self):\n",
        "        return f'Employee {self.name}'\n",
        "\n",
        "e = Employee(\"dilkhush\")\n",
        "print(str(e))\n",
        "print(repr(e))"
      ]
    },
    {
      "cell_type": "markdown",
      "metadata": {
        "id": "MFV4mkwVzCMS"
      },
      "source": [
        "### \\_\\_call\\_\\_ method\n",
        "The call method is used to make an object callable, meaning that you can pass it as a parameter to a function and it will be executed when the function is called. This is an incredibly powerful tool that allows you to create objects that behave like functions."
      ]
    },
    {
      "cell_type": "code",
      "execution_count": null,
      "metadata": {
        "id": "z8lmUCtlzCMS",
        "outputId": "1b89c758-cbb3-46cb-9f41-bbb5d3c047e0"
      },
      "outputs": [
        {
          "name": "stdout",
          "output_type": "stream",
          "text": [
            "Hey I'm good\n"
          ]
        }
      ],
      "source": [
        "class Employee:\n",
        "    def __call__(self):\n",
        "        print(\"Hey I'm good\")\n",
        "\n",
        "e = Employee()\n",
        "e()"
      ]
    },
    {
      "cell_type": "markdown",
      "metadata": {
        "id": "HWmKmbD-zCMT"
      },
      "source": [
        "# 74. Method Overriding\n",
        "Method overriding is a powerful feature in object-oriented programming that allows you to redifine a method in a derived class. The method in the derived class is said to override the method in the base class. When you create an instance of the derived class and call the overidden method, the version of the method in the derived class is executed, rather than the version in the base class."
      ]
    },
    {
      "cell_type": "code",
      "execution_count": null,
      "metadata": {
        "id": "zGoGjpkizCMa",
        "outputId": "f8a47d73-614a-428b-d82f-ffd183b6a4e6"
      },
      "outputs": [
        {
          "name": "stdout",
          "output_type": "stream",
          "text": [
            "15\n",
            "78.5\n"
          ]
        }
      ],
      "source": [
        "class Shape:\n",
        "    def __init__(self, x, y):\n",
        "        self.x = x\n",
        "        self.y = y\n",
        "\n",
        "    def area(self):\n",
        "        return self.x * self.y\n",
        "\n",
        "class Circle(Shape):\n",
        "    def __init__(self, radius):\n",
        "        self.radius = radius\n",
        "        super().__init__(radius, radius)\n",
        "\n",
        "    def area(self):\n",
        "        return 3.14 * super().area()\n",
        "\n",
        "rec = Shape(3, 5)\n",
        "print(rec.area())\n",
        "\n",
        "c = Circle(5)\n",
        "print(c.area())"
      ]
    },
    {
      "cell_type": "markdown",
      "metadata": {
        "id": "H58Cs81_zCMb"
      },
      "source": [
        "# 75. Exercise 7 Solution"
      ]
    },
    {
      "cell_type": "code",
      "execution_count": null,
      "metadata": {
        "id": "kWRDT6aGzCMb",
        "outputId": "374c55ab-bdc1-43a9-a615-40f7ed2d9e1d"
      },
      "outputs": [
        {
          "ename": "TypeError",
          "evalue": "rename() missing required argument 'dst' (pos 2)",
          "output_type": "error",
          "traceback": [
            "\u001b[1;31m---------------------------------------------------------------------------\u001b[0m",
            "\u001b[1;31mTypeError\u001b[0m                                 Traceback (most recent call last)",
            "Cell \u001b[1;32mIn[20], line 2\u001b[0m\n\u001b[0;32m      1\u001b[0m \u001b[39mimport\u001b[39;00m \u001b[39mos\u001b[39;00m\n\u001b[1;32m----> 2\u001b[0m os\u001b[39m.\u001b[39;49mrename(\u001b[39m'\u001b[39;49m\u001b[39mfile.txt \u001b[39;49m\u001b[39m'\u001b[39;49m)\n",
            "\u001b[1;31mTypeError\u001b[0m: rename() missing required argument 'dst' (pos 2)"
          ]
        }
      ],
      "source": [
        "import os\n",
        "os.rename('file.txt ')"
      ]
    },
    {
      "cell_type": "markdown",
      "metadata": {
        "id": "f3ltWRQ7zCMc"
      },
      "source": [
        "# 76. Exercise 8 - Merge PDF\n",
        "Write a program to manipulate pdf files using pyPDF. Your programs should be able to merge multiple pdf files into a single pdf.\n",
        "#\n",
        "pyPDF is a free and open-source pure-python PDF library capable of splitting, merging, cropping, and transforming the pages of PDF files. It can also add custom data, viewing options, and passwords to PDF files. pyPDF can retrieve text and metadata from PDFs as well."
      ]
    }
  ],
  "metadata": {
    "kernelspec": {
      "display_name": "Python 3",
      "language": "python",
      "name": "python3"
    },
    "language_info": {
      "codemirror_mode": {
        "name": "ipython",
        "version": 3
      },
      "file_extension": ".py",
      "mimetype": "text/x-python",
      "name": "python",
      "nbconvert_exporter": "python",
      "pygments_lexer": "ipython3",
      "version": "3.11.2"
    },
    "orig_nbformat": 4,
    "vscode": {
      "interpreter": {
        "hash": "5238573367df39f7286bb46f9ff5f08f63a01a80960060ce41e3c79b190280fa"
      }
    },
    "colab": {
      "provenance": [],
      "include_colab_link": true
    }
  },
  "nbformat": 4,
  "nbformat_minor": 0
}