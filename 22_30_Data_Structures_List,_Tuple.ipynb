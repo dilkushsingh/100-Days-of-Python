{
  "cells": [
    {
      "cell_type": "markdown",
      "metadata": {
        "id": "view-in-github",
        "colab_type": "text"
      },
      "source": [
        "<a href=\"https://colab.research.google.com/github/dilkushsingh/My-Python-Learning/blob/main/22_30_Data_Structures_List%2C_Tuple.ipynb\" target=\"_parent\"><img src=\"https://colab.research.google.com/assets/colab-badge.svg\" alt=\"Open In Colab\"/></a>"
      ]
    },
    {
      "cell_type": "markdown",
      "metadata": {
        "id": "zwdaDc_qvfQ4"
      },
      "source": [
        "# 22. List"
      ]
    },
    {
      "cell_type": "markdown",
      "metadata": {
        "id": "UISknQ1ZvfRC"
      },
      "source": [
        "List are ordered collection of objects.\n",
        "Multiple items can be stored in single variable.\n",
        "separated by commas and enclosed within square brackets.\n",
        "Mutable"
      ]
    },
    {
      "cell_type": "code",
      "execution_count": null,
      "metadata": {
        "id": "byh9pnSKvfRE",
        "outputId": "08119a07-20a0-4b66-a81f-e64d528c9950"
      },
      "outputs": [
        {
          "name": "stdout",
          "output_type": "stream",
          "text": [
            "[1, 2, 3, 4]\n"
          ]
        }
      ],
      "source": [
        "l = [1,2,3,4]\n",
        "print(l)"
      ]
    },
    {
      "cell_type": "code",
      "execution_count": null,
      "metadata": {
        "id": "gh3KJyDsvfRI",
        "outputId": "e91dd326-3410-48b2-d051-09ac7816d729"
      },
      "outputs": [
        {
          "name": "stdout",
          "output_type": "stream",
          "text": [
            "<class 'list'>\n"
          ]
        }
      ],
      "source": [
        "print(type(l))"
      ]
    },
    {
      "cell_type": "code",
      "execution_count": null,
      "metadata": {
        "id": "JWtXxMq8vfRK",
        "outputId": "60b34ea6-33ae-4551-b298-cd4e4d48e683"
      },
      "outputs": [
        {
          "name": "stdout",
          "output_type": "stream",
          "text": [
            "1\n"
          ]
        }
      ],
      "source": [
        "print(l[0])"
      ]
    },
    {
      "cell_type": "code",
      "execution_count": null,
      "metadata": {
        "id": "4KsfOW0cvfRM",
        "outputId": "f949db52-cacb-4cdb-ccf0-afae4e4b4636"
      },
      "outputs": [
        {
          "name": "stdout",
          "output_type": "stream",
          "text": [
            "Present\n"
          ]
        }
      ],
      "source": [
        "if 2 in l:\n",
        "    print(\"Present\")\n",
        "else:\n",
        "    print(\"Absent\")"
      ]
    },
    {
      "cell_type": "markdown",
      "metadata": {
        "id": "n9v0kMD2vfRO"
      },
      "source": [
        "# 23. List Methods"
      ]
    },
    {
      "cell_type": "code",
      "execution_count": null,
      "metadata": {
        "id": "i8LglODwvfRP",
        "outputId": "7987a464-bec6-4e46-90d2-456e1d39ead2"
      },
      "outputs": [
        {
          "name": "stdout",
          "output_type": "stream",
          "text": [
            "[1, 2, 3, 4, 5, 3, 3, 7, 8, 3, 2, 0]\n"
          ]
        }
      ],
      "source": [
        "l = [1,2,3,4,5,3,3,7,8,3,2,0]\n",
        "print(l)"
      ]
    },
    {
      "cell_type": "code",
      "execution_count": null,
      "metadata": {
        "id": "ssWJXuwivfRQ",
        "outputId": "b91d0750-665c-4e9a-beb9-76538ea6d29c"
      },
      "outputs": [
        {
          "name": "stdout",
          "output_type": "stream",
          "text": [
            "[1, 2, 3, 4, 5, 3, 3, 7, 8, 3, 2, 0, 6]\n"
          ]
        }
      ],
      "source": [
        "\"\"\"list.append(x)\n",
        "    add an item to the end of the list. Equivalent to list[len(list):]= [x]\n",
        "\"\"\"\n",
        "l.append(6)\n",
        "print(l)"
      ]
    },
    {
      "cell_type": "code",
      "execution_count": null,
      "metadata": {
        "id": "mIGcm2mUvfRS",
        "outputId": "74b89a9f-7bba-4e8f-c2ed-2efda0d25a20"
      },
      "outputs": [
        {
          "name": "stdout",
          "output_type": "stream",
          "text": [
            "[0, 1, 2, 2, 3, 3, 3, 3, 4, 5, 6, 7, 8]\n"
          ]
        }
      ],
      "source": [
        "\"\"\"list.sort()\n",
        "    sorts the list in ascending order.\n",
        "\"\"\"\n",
        "l.sort()\n",
        "print(l)"
      ]
    },
    {
      "cell_type": "code",
      "execution_count": null,
      "metadata": {
        "id": "-E9D_Af5vfRW",
        "outputId": "bc9f403f-8d31-4f0e-e7be-fb63936ffb9e"
      },
      "outputs": [
        {
          "name": "stdout",
          "output_type": "stream",
          "text": [
            "[0, 1, 2, 2, 3, 3, 3, 3, 4, 5, 6, 7, 8]\n"
          ]
        },
        {
          "data": {
            "text/plain": [
              "4"
            ]
          },
          "execution_count": 8,
          "metadata": {},
          "output_type": "execute_result"
        }
      ],
      "source": [
        "\"\"\"list.index()\n",
        "    returns the index of the first occurence of item.\n",
        "\"\"\"\n",
        "print(l)\n",
        "l.index(3)"
      ]
    },
    {
      "cell_type": "code",
      "execution_count": null,
      "metadata": {
        "id": "BdLMhwOtvfRX",
        "outputId": "624514ab-9bcf-45a3-cba8-7fbbc4825c3c"
      },
      "outputs": [
        {
          "name": "stdout",
          "output_type": "stream",
          "text": [
            "[0, 1, 2, 2, 3, 3, 3, 3, 4, 5, 6, 7, 8]\n"
          ]
        },
        {
          "data": {
            "text/plain": [
              "4"
            ]
          },
          "execution_count": 9,
          "metadata": {},
          "output_type": "execute_result"
        }
      ],
      "source": [
        "\"\"\"list.count()\n",
        "    returns the count of the number of items with value.\n",
        "\"\"\"\n",
        "print(l)\n",
        "l.count(3)"
      ]
    },
    {
      "cell_type": "code",
      "execution_count": null,
      "metadata": {
        "id": "5uuKbd0SvfRX",
        "outputId": "83904e83-bf85-4224-e594-182c1e79438a"
      },
      "outputs": [
        {
          "name": "stdout",
          "output_type": "stream",
          "text": [
            "[0, 1, 2, 2, 3, 3, 3, 3, 4, 5, 6, 7, 8]\n",
            "[0, 1, 2, 2, 3, 3, 3, 3, 4, 5, 6, 7, 8, 9]\n",
            "[0, 1, 2, 2, 3, 3, 3, 3, 4, 5, 6, 7, 8]\n"
          ]
        }
      ],
      "source": [
        "\"\"\"list.copy()\n",
        "    copy the list. Equivalent to a[:]\n",
        "\"\"\"\n",
        "m = l.copy()\n",
        "print(m)\n",
        "m.append(9)\n",
        "print(m)\n",
        "print(l)"
      ]
    },
    {
      "cell_type": "code",
      "execution_count": null,
      "metadata": {
        "id": "Io1aICkVvfRY",
        "outputId": "ee687b24-e67d-4fba-b21c-5e725611e5dd"
      },
      "outputs": [
        {
          "name": "stdout",
          "output_type": "stream",
          "text": [
            "[0, 1, 2, 2, 3, 3, 3, 3, 4, 5, 6, 7, 8]\n",
            "[0, 1, 2, 45, 2, 3, 3, 3, 3, 4, 5, 6, 7, 8]\n"
          ]
        }
      ],
      "source": [
        "\"\"\"list.insert()\n",
        "    inserts item at given index.\n",
        "\"\"\"\n",
        "print(l)\n",
        "l.insert(3,45)\n",
        "print(l)"
      ]
    },
    {
      "cell_type": "code",
      "execution_count": null,
      "metadata": {
        "id": "heIhFXDOvfRZ",
        "outputId": "b6b2439e-893c-47cc-d937-4dca69917bea"
      },
      "outputs": [
        {
          "name": "stdout",
          "output_type": "stream",
          "text": [
            "[0, 1, 2, 45, 2, 3, 3, 3, 3, 4, 5, 6, 7, 8, 55, 32, 353, 84, 46]\n"
          ]
        }
      ],
      "source": [
        "\"\"\"list.extend()\n",
        "    adds the given list at the end of first list.\n",
        "\"\"\"\n",
        "m = [55,32,353,84,46]\n",
        "l.extend(m)\n",
        "print(l)"
      ]
    },
    {
      "cell_type": "code",
      "execution_count": null,
      "metadata": {
        "id": "AcXIzx8tvfRZ",
        "outputId": "b4f85e40-b179-432f-951a-40c7e6bf6a1f"
      },
      "outputs": [
        {
          "name": "stdout",
          "output_type": "stream",
          "text": [
            "['voilet', 'yellow', 'green', 'pink', 'red', 'white', 'orange', 'black']\n"
          ]
        }
      ],
      "source": [
        "\"\"\"List conacatenation\n",
        "    we can concatenate two list into another third list.\n",
        "\"\"\"\n",
        "list1 = [\"voilet\", \"yellow\", \"green\", \"pink\"]\n",
        "list2 = [\"red\", \"white\", \"orange\", \"black\"]\n",
        "list3 = list1 + list2\n",
        "print(list3)"
      ]
    },
    {
      "cell_type": "markdown",
      "metadata": {
        "id": "WWb_6j1jvfRa"
      },
      "source": [
        "# 23.5. List Comprehensions\n",
        "List comprehensions provide a concise way to create lists. Common applications are to make new lists where each element is the result of some operations applied to each member of another sequence or iterable."
      ]
    },
    {
      "cell_type": "code",
      "execution_count": null,
      "metadata": {
        "id": "AVYfvj5YvfRb",
        "outputId": "2fd5158e-eb44-47cc-a840-917b4f2e383f"
      },
      "outputs": [
        {
          "data": {
            "text/plain": [
              "[0, 1, 4, 9, 16, 25, 36, 49, 64, 81]"
            ]
          },
          "execution_count": 14,
          "metadata": {},
          "output_type": "execute_result"
        }
      ],
      "source": [
        "squares = []\n",
        "for i in range(10):\n",
        "    squares.append(i**2)\n",
        "\n",
        "squares"
      ]
    },
    {
      "cell_type": "code",
      "execution_count": null,
      "metadata": {
        "id": "qc3a8JeavfRb",
        "outputId": "ef25e9b8-ccba-42b1-c690-464b19b7be08"
      },
      "outputs": [
        {
          "data": {
            "text/plain": [
              "[0, 1, 4, 9, 16, 25, 36, 49, 64, 81]"
            ]
          },
          "execution_count": 15,
          "metadata": {},
          "output_type": "execute_result"
        }
      ],
      "source": [
        "squares = list(map(lambda x:x**2, range(10)))\n",
        "squares"
      ]
    },
    {
      "cell_type": "code",
      "execution_count": null,
      "metadata": {
        "id": "6b_SrgDovfRc",
        "outputId": "285f33d6-d16f-4ea8-e865-42d68958656e"
      },
      "outputs": [
        {
          "data": {
            "text/plain": [
              "[0, 1, 4, 9, 16, 25, 36, 49, 64, 81]"
            ]
          },
          "execution_count": 16,
          "metadata": {},
          "output_type": "execute_result"
        }
      ],
      "source": [
        "squares = [x**2 for x in range(10)]\n",
        "squares"
      ]
    },
    {
      "cell_type": "markdown",
      "metadata": {
        "id": "9PwtT137vfRd"
      },
      "source": [
        "# 24. Tuples\n",
        "Same as List except tuples are Immutable. They contain heterogeneous sequence of elements that are accessed via unpacking or indexing.\n"
      ]
    },
    {
      "cell_type": "code",
      "execution_count": null,
      "metadata": {
        "id": "wlHbBI1QvfRd",
        "outputId": "5b32244a-5c1f-4ead-8897-acd8c3892808"
      },
      "outputs": [
        {
          "name": "stdout",
          "output_type": "stream",
          "text": [
            "<class 'tuple'>\n"
          ]
        }
      ],
      "source": [
        "tup = (1,2,3,4,5,6)\n",
        "print(type(tup))"
      ]
    },
    {
      "cell_type": "code",
      "execution_count": null,
      "metadata": {
        "id": "VyJGcB7OvfRd",
        "outputId": "8bade6d8-a1e9-4dba-cae0-9957a9f0fb47"
      },
      "outputs": [
        {
          "name": "stdout",
          "output_type": "stream",
          "text": [
            "1\n",
            "6\n"
          ]
        }
      ],
      "source": [
        "print(tup[0])\n",
        "print(tup[-1])"
      ]
    },
    {
      "cell_type": "code",
      "execution_count": null,
      "metadata": {
        "id": "N1ozOpifvfRe",
        "outputId": "8e001153-594a-4b0f-aa92-97c49c703788"
      },
      "outputs": [
        {
          "name": "stdout",
          "output_type": "stream",
          "text": [
            "Present\n"
          ]
        }
      ],
      "source": [
        "if 5 in tup:\n",
        "    print(\"Present\")\n",
        "else:\n",
        "    print(\"Absent\")"
      ]
    },
    {
      "cell_type": "code",
      "execution_count": null,
      "metadata": {
        "id": "zgMSvakZvfRe",
        "outputId": "69e80151-69ea-4e8b-c2f4-3c7421276e1e"
      },
      "outputs": [
        {
          "name": "stdout",
          "output_type": "stream",
          "text": [
            "(1, 2, 3, 4, 5, 6)\n",
            "(2, 3, 4)\n"
          ]
        }
      ],
      "source": [
        "print(tup)\n",
        "print(tup[1:4])"
      ]
    },
    {
      "cell_type": "code",
      "execution_count": null,
      "metadata": {
        "id": "QMBsQ8NXvfRf",
        "outputId": "4879508a-e9c2-4f91-eecb-059127090420"
      },
      "outputs": [
        {
          "data": {
            "text/plain": [
              "((12345, 54321, 'hello'), (2, 4, 5, 7))"
            ]
          },
          "execution_count": 21,
          "metadata": {},
          "output_type": "execute_result"
        }
      ],
      "source": [
        "# tuples may be nested\n",
        "t = 12345, 54321, 'hello'\n",
        "u = t, (2,4,5,7)\n",
        "u"
      ]
    },
    {
      "cell_type": "markdown",
      "metadata": {
        "id": "KYCmYeEsvfRg"
      },
      "source": [
        "# 25. Tuple Operations"
      ]
    },
    {
      "cell_type": "markdown",
      "metadata": {
        "id": "tzYr2q4ovfRg"
      },
      "source": [
        "Empty tuples are constructed by an empty pair or parantheses.\n",
        "A tuple with one item is constructed by following a value with a comma"
      ]
    },
    {
      "cell_type": "code",
      "execution_count": null,
      "metadata": {
        "id": "giXMuQtavfRg",
        "outputId": "a4336b22-c28b-496f-ce75-2c0db98c2293"
      },
      "outputs": [
        {
          "name": "stdout",
          "output_type": "stream",
          "text": [
            "<class 'tuple'>\n"
          ]
        }
      ],
      "source": [
        "empty = ()\n",
        "print(type(empty))"
      ]
    },
    {
      "cell_type": "code",
      "execution_count": null,
      "metadata": {
        "id": "MMms5qt7vfRh",
        "outputId": "8f90a961-6d0b-4cea-ba8d-70a4c64d07fe"
      },
      "outputs": [
        {
          "name": "stdout",
          "output_type": "stream",
          "text": [
            "<class 'str'>\n"
          ]
        }
      ],
      "source": [
        "singleton = ('hello')\n",
        "print(type(singleton))"
      ]
    },
    {
      "cell_type": "code",
      "execution_count": null,
      "metadata": {
        "id": "jFLrRvj_vfRh",
        "outputId": "b98f2a4d-e0f0-491a-99ad-8fd7b202ff26"
      },
      "outputs": [
        {
          "name": "stdout",
          "output_type": "stream",
          "text": [
            "<class 'tuple'>\n"
          ]
        }
      ],
      "source": [
        "singleton2 = ('hello',)\n",
        "print(type(singleton2))"
      ]
    },
    {
      "cell_type": "markdown",
      "metadata": {
        "id": "KFo-YUqCvfRi"
      },
      "source": [
        "# 26. Exercise 2 - Solution"
      ]
    },
    {
      "cell_type": "code",
      "execution_count": null,
      "metadata": {
        "id": "okbv39IavfRi",
        "outputId": "0f877ab5-58dd-438f-e1c6-34306eccbee0"
      },
      "outputs": [
        {
          "name": "stdout",
          "output_type": "stream",
          "text": [
            "13\n",
            "Good Afternoon Sir\n"
          ]
        }
      ],
      "source": [
        "import time\n",
        "t = time.strftime('%H:%M:%S')\n",
        "hour = int(time.strftime('%H'))\n",
        "print(hour)\n",
        "\n",
        "if(hour>5 and hour<12):\n",
        "    print(\"Good Morning Sir\")\n",
        "elif(hour>=12 and hour<18):\n",
        "    print(\"Good Afternoon Sir\")\n",
        "else:\n",
        "    print(\"Good Evening Sir\")"
      ]
    },
    {
      "cell_type": "markdown",
      "metadata": {
        "id": "5QpjGy65vfRi"
      },
      "source": [
        "# 27. Exercise 3"
      ]
    },
    {
      "cell_type": "code",
      "execution_count": null,
      "metadata": {
        "id": "mGczC9rUvfRj"
      },
      "outputs": [],
      "source": []
    },
    {
      "cell_type": "markdown",
      "metadata": {
        "id": "CeiW23yFvfRj"
      },
      "source": [
        "# 28. f-string\n"
      ]
    },
    {
      "cell_type": "code",
      "execution_count": null,
      "metadata": {
        "id": "CTGMEKpyvfRj",
        "outputId": "21596787-4e33-4be3-f35b-b4dc2f2542ae"
      },
      "outputs": [
        {
          "name": "stdout",
          "output_type": "stream",
          "text": [
            "Hey my name is Harry and I am from India\n",
            "Hey my name is Harry and I am from India\n"
          ]
        }
      ],
      "source": [
        "letter = \"Hey my name is {0} and I am from {1}\"\n",
        "country = \"India\"\n",
        "name = \"Harry\"\n",
        "\n",
        "print(letter.format(name,country))\n",
        "print(f\"Hey my name is {name} and I am from {country}\")"
      ]
    },
    {
      "cell_type": "markdown",
      "metadata": {
        "id": "bl8XDaY2vfRj"
      },
      "source": [
        "# 29. Docstring"
      ]
    },
    {
      "cell_type": "code",
      "execution_count": null,
      "metadata": {
        "id": "9dIVNqg2vfRk",
        "outputId": "16456644-9969-49dc-faf0-22962446f2d6"
      },
      "outputs": [
        {
          "name": "stdout",
          "output_type": "stream",
          "text": [
            "25\n",
            "Takes in a number n, prints the square of n\n"
          ]
        }
      ],
      "source": [
        "#Python docstring are the string literals that appear\n",
        "#right after the definition of a function, method, class\n",
        "#or module.\n",
        "\n",
        "def square(n):\n",
        "    '''Takes in a number n, prints the square of n'''\n",
        "    print(n**2)\n",
        "\n",
        "square(5)\n",
        "print(square.__doc__)"
      ]
    },
    {
      "cell_type": "code",
      "execution_count": null,
      "metadata": {
        "id": "k0IL90wnvfRr",
        "outputId": "28d308ba-f960-40c3-f9a5-f0ac017d7fcc"
      },
      "outputs": [
        {
          "name": "stdout",
          "output_type": "stream",
          "text": [
            "The Zen of Python, by Tim Peters\n",
            "\n",
            "Beautiful is better than ugly.\n",
            "Explicit is better than implicit.\n",
            "Simple is better than complex.\n",
            "Complex is better than complicated.\n",
            "Flat is better than nested.\n",
            "Sparse is better than dense.\n",
            "Readability counts.\n",
            "Special cases aren't special enough to break the rules.\n",
            "Although practicality beats purity.\n",
            "Errors should never pass silently.\n",
            "Unless explicitly silenced.\n",
            "In the face of ambiguity, refuse the temptation to guess.\n",
            "There should be one-- and preferably only one --obvious way to do it.\n",
            "Although that way may not be obvious at first unless you're Dutch.\n",
            "Now is better than never.\n",
            "Although never is often better than *right* now.\n",
            "If the implementation is hard to explain, it's a bad idea.\n",
            "If the implementation is easy to explain, it may be a good idea.\n",
            "Namespaces are one honking great idea -- let's do more of those!\n"
          ]
        }
      ],
      "source": [
        "# PEP 8\n",
        "import this"
      ]
    },
    {
      "cell_type": "markdown",
      "metadata": {
        "id": "nVzdEoZfvfRs"
      },
      "source": [
        "# 30. Recursion"
      ]
    },
    {
      "cell_type": "code",
      "execution_count": null,
      "metadata": {
        "id": "kQLx9ZqFvfRs",
        "outputId": "0c97d8ad-fb63-4517-fe71-e4cda0e6ef36"
      },
      "outputs": [
        {
          "name": "stdout",
          "output_type": "stream",
          "text": [
            "120\n"
          ]
        }
      ],
      "source": [
        "def factorial(n):\n",
        "    if(n==0 or n==1):\n",
        "        return 1\n",
        "    else:\n",
        "        return n * factorial(n-1)\n",
        "\n",
        "print(factorial(5))"
      ]
    }
  ],
  "metadata": {
    "kernelspec": {
      "display_name": "Python 3",
      "language": "python",
      "name": "python3"
    },
    "language_info": {
      "codemirror_mode": {
        "name": "ipython",
        "version": 3
      },
      "file_extension": ".py",
      "mimetype": "text/x-python",
      "name": "python",
      "nbconvert_exporter": "python",
      "pygments_lexer": "ipython3",
      "version": "3.11.2"
    },
    "orig_nbformat": 4,
    "vscode": {
      "interpreter": {
        "hash": "5238573367df39f7286bb46f9ff5f08f63a01a80960060ce41e3c79b190280fa"
      }
    },
    "colab": {
      "provenance": [],
      "include_colab_link": true
    }
  },
  "nbformat": 4,
  "nbformat_minor": 0
}