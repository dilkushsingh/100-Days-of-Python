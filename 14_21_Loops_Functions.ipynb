{
  "cells": [
    {
      "cell_type": "markdown",
      "metadata": {
        "id": "view-in-github",
        "colab_type": "text"
      },
      "source": [
        "<a href=\"https://colab.research.google.com/github/dilkushsingh/My-Python-Learning/blob/main/14_21_Loops_Functions.ipynb\" target=\"_parent\"><img src=\"https://colab.research.google.com/assets/colab-badge.svg\" alt=\"Open In Colab\"/></a>"
      ]
    },
    {
      "cell_type": "markdown",
      "id": "46dc7e66",
      "metadata": {
        "id": "46dc7e66"
      },
      "source": [
        "# 14. Conditional Statements"
      ]
    },
    {
      "cell_type": "code",
      "execution_count": null,
      "id": "a3122f72",
      "metadata": {
        "id": "a3122f72",
        "outputId": "d40b1568-a56f-4c57-d2a8-12e1dd6e77b3"
      },
      "outputs": [
        {
          "name": "stdout",
          "output_type": "stream",
          "text": [
            "You are eligible for voting\n"
          ]
        }
      ],
      "source": [
        "age = int(input(\"Enter your age >\"))\n",
        "if(age>18):\n",
        "    print(\"You are eligible for voting\")\n",
        "else:\n",
        "    print(\"You are not eligible for voting.\")"
      ]
    },
    {
      "cell_type": "markdown",
      "id": "93f60e4e",
      "metadata": {
        "id": "93f60e4e"
      },
      "source": [
        "# 15. Exercise 2 - Good Morning Sir"
      ]
    },
    {
      "cell_type": "code",
      "execution_count": null,
      "id": "339d6744",
      "metadata": {
        "id": "339d6744",
        "outputId": "6a6ee654-0986-4dba-a2ac-27830c5fca56"
      },
      "outputs": [
        {
          "name": "stdout",
          "output_type": "stream",
          "text": [
            "06:40\n",
            "Good Morning Sir\n"
          ]
        }
      ],
      "source": [
        "import time\n",
        "current_time = time.strftime('%H:%M')\n",
        "print(current_time)\n",
        "hour = int(time.strftime('%H'))\n",
        "if(hour>=0 and hour<12):\n",
        "    print(\"Good Morning Sir\")\n",
        "elif(hour>=12 and hour<17):\n",
        "    print(\"Good Afternoon Sir\")\n",
        "else:\n",
        "    print(\"Good Night Sir\")"
      ]
    },
    {
      "cell_type": "markdown",
      "id": "56d0f768",
      "metadata": {
        "id": "56d0f768"
      },
      "source": [
        "# 16. Match Case"
      ]
    },
    {
      "cell_type": "code",
      "execution_count": null,
      "id": "f5b5e56c",
      "metadata": {
        "id": "f5b5e56c",
        "outputId": "dea61690-a1bc-4909-9c78-7a71cd975048"
      },
      "outputs": [
        {
          "name": "stdout",
          "output_type": "stream",
          "text": [
            "x is neither zero nor four\n"
          ]
        }
      ],
      "source": [
        "x = int(input(\"Enter a number from 0 to 5> \"))\n",
        "\n",
        "match x:\n",
        "    case 0:\n",
        "        print(\"x is zero\")\n",
        "    case 4:\n",
        "        print(\"x is four\")\n",
        "    case _:\n",
        "        print(\"x is neither zero nor four\")"
      ]
    },
    {
      "cell_type": "code",
      "execution_count": null,
      "id": "946697f6",
      "metadata": {
        "id": "946697f6",
        "outputId": "ec256d44-57d8-4559-ac72-bd227070f809"
      },
      "outputs": [
        {
          "data": {
            "text/plain": [
              "'Not allowed'"
            ]
          },
          "execution_count": 1,
          "metadata": {},
          "output_type": "execute_result"
        }
      ],
      "source": [
        "def http_error(status):\n",
        "    match status:\n",
        "        case 400:\n",
        "            return \"Bad request\"\n",
        "        case 401 | 403:\n",
        "            return \"Not allowed\"\n",
        "        case 404:\n",
        "            return \"Not found\"\n",
        "        case 418:\n",
        "            return \"I'm a teapot\"\n",
        "        case _:\n",
        "            return \"Something went wrong\"\n",
        "\n",
        "http_error(403)"
      ]
    },
    {
      "cell_type": "markdown",
      "id": "39b77207",
      "metadata": {
        "id": "39b77207"
      },
      "source": [
        "# 17. For loops in python\n"
      ]
    },
    {
      "cell_type": "code",
      "execution_count": null,
      "id": "d7428318",
      "metadata": {
        "id": "d7428318",
        "outputId": "d1d98b0d-fb80-4d27-e9c1-4b7116536f13"
      },
      "outputs": [
        {
          "name": "stdout",
          "output_type": "stream",
          "text": [
            "Printing characters in string\n",
            "D\n",
            "i\n",
            "l\n",
            "k\n",
            "h\n",
            "u\n",
            "s\n",
            "h\n"
          ]
        }
      ],
      "source": [
        "name = \"Dilkhush\"\n",
        "print('Printing characters in string')\n",
        "for i in name:\n",
        "    print(i)"
      ]
    },
    {
      "cell_type": "code",
      "execution_count": null,
      "id": "a3450322",
      "metadata": {
        "id": "a3450322",
        "outputId": "1b973e19-e79a-42c4-f33d-d88f307c4af8"
      },
      "outputs": [
        {
          "name": "stdout",
          "output_type": "stream",
          "text": [
            "cat 3\n",
            "window 6\n",
            "defenestrate 12\n"
          ]
        }
      ],
      "source": [
        "words = ['cat', 'window', 'defenestrate']\n",
        "for w in words:\n",
        "    print(w, len(w))"
      ]
    },
    {
      "cell_type": "code",
      "execution_count": null,
      "id": "b01b0f1c",
      "metadata": {
        "id": "b01b0f1c",
        "outputId": "12759e46-78c7-4ba4-e8ed-e4b39526a655"
      },
      "outputs": [
        {
          "name": "stdout",
          "output_type": "stream",
          "text": [
            "Red\n",
            "Green\n",
            "Blue\n",
            "Happy Holi\n",
            "Yellow\n"
          ]
        }
      ],
      "source": [
        "colors = [\"Red\", \"Green\", \"Blue\", \"Yellow\"]\n",
        "for color in colors:\n",
        "    print(color)\n",
        "    if(color == \"Blue\"):\n",
        "        print(\"Happy Holi\")"
      ]
    },
    {
      "cell_type": "code",
      "execution_count": null,
      "id": "fd9f80ae",
      "metadata": {
        "id": "fd9f80ae",
        "outputId": "d031cda4-eea0-4e09-994c-51538f002e09"
      },
      "outputs": [
        {
          "name": "stdout",
          "output_type": "stream",
          "text": [
            "Active users are {'Hans': 'active', 'Sam': 'active'}\n"
          ]
        }
      ],
      "source": [
        "users = {'Hans': 'active', 'Eleonore': 'inactive', 'Sam': 'active'}\n",
        "\n",
        "for user, status in users.copy().items():\n",
        "    if status == 'inactive':\n",
        "        del users[user]\n",
        "\n",
        "active_users = {}\n",
        "for user, status in users.items():\n",
        "    if status == 'active':\n",
        "        active_users[user] = status\n",
        "\n",
        "print(f'Active users are {active_users}')"
      ]
    },
    {
      "cell_type": "code",
      "execution_count": null,
      "id": "974c9ed7",
      "metadata": {
        "id": "974c9ed7",
        "outputId": "9ca80cf4-c8da-415e-8491-be5fba9296be"
      },
      "outputs": [
        {
          "name": "stdout",
          "output_type": "stream",
          "text": [
            "0\n",
            "1\n",
            "2\n",
            "3\n",
            "4\n"
          ]
        }
      ],
      "source": [
        "# Range from 0 to (n-1)\n",
        "for k in range(5):\n",
        "    print(k)"
      ]
    },
    {
      "cell_type": "code",
      "execution_count": null,
      "id": "ca69e2df",
      "metadata": {
        "id": "ca69e2df",
        "outputId": "7583ff58-e4cb-4a83-8b62-2608192df8f4"
      },
      "outputs": [
        {
          "name": "stdout",
          "output_type": "stream",
          "text": [
            "1\n",
            "6\n",
            "11\n",
            "16\n",
            "21\n",
            "26\n",
            "31\n",
            "36\n",
            "41\n",
            "46\n",
            "51\n",
            "56\n",
            "61\n",
            "66\n",
            "71\n",
            "76\n",
            "81\n",
            "86\n",
            "91\n",
            "96\n",
            "101\n",
            "106\n",
            "111\n",
            "116\n",
            "121\n",
            "126\n",
            "131\n",
            "136\n",
            "141\n",
            "146\n",
            "151\n",
            "156\n",
            "161\n",
            "166\n",
            "171\n",
            "176\n",
            "181\n",
            "186\n",
            "191\n",
            "196\n"
          ]
        }
      ],
      "source": [
        "for k in range(1,200,5):\n",
        "    print(k)"
      ]
    },
    {
      "cell_type": "markdown",
      "id": "507ae20f",
      "metadata": {
        "id": "507ae20f"
      },
      "source": [
        "# 18. While Loop"
      ]
    },
    {
      "cell_type": "code",
      "execution_count": null,
      "id": "59a4df03",
      "metadata": {
        "id": "59a4df03",
        "outputId": "cb00747b-145a-4a93-ca38-5c94ef886f38"
      },
      "outputs": [
        {
          "name": "stdout",
          "output_type": "stream",
          "text": [
            "0\n",
            "1\n",
            "2\n"
          ]
        }
      ],
      "source": [
        "i = 0\n",
        "while (i<3):\n",
        "    print (i)\n",
        "    i += 1"
      ]
    },
    {
      "cell_type": "code",
      "execution_count": null,
      "id": "087ccbe2",
      "metadata": {
        "id": "087ccbe2",
        "outputId": "c987dbda-00ab-49d8-b16b-892782fe804b"
      },
      "outputs": [
        {
          "name": "stdout",
          "output_type": "stream",
          "text": [
            "5\n",
            "4\n",
            "3\n",
            "2\n",
            "1\n",
            "I'm inside else\n"
          ]
        }
      ],
      "source": [
        "count = 5\n",
        "while(count > 0):\n",
        "    print(count)\n",
        "    count = count - 1\n",
        "else:\n",
        "    print(\"I'm inside else\")"
      ]
    },
    {
      "cell_type": "markdown",
      "id": "15692999",
      "metadata": {
        "id": "15692999"
      },
      "source": [
        "# 19. Break, Continue and Pass"
      ]
    },
    {
      "cell_type": "code",
      "execution_count": null,
      "id": "0daceb83",
      "metadata": {
        "id": "0daceb83",
        "outputId": "eca2b82b-6cab-4367-b882-3b3b4eae240a"
      },
      "outputs": [
        {
          "name": "stdout",
          "output_type": "stream",
          "text": [
            "5 x 1 = 5\n",
            "5 x 2 = 10\n",
            "5 x 3 = 15\n",
            "5 x 4 = 20\n",
            "5 x 5 = 25\n",
            "5 x 6 = 30\n",
            "5 x 7 = 35\n",
            "5 x 8 = 40\n",
            "5 x 9 = 45\n",
            "5 x 10 = 50\n"
          ]
        }
      ],
      "source": [
        "for i in range(12):\n",
        "    if(i==10):\n",
        "        break #breks the whole loop\n",
        "    print(\"5 x\",i+1,\"=\",5*(i+1))"
      ]
    },
    {
      "cell_type": "code",
      "execution_count": null,
      "id": "fcd8b1a2",
      "metadata": {
        "id": "fcd8b1a2",
        "outputId": "eb8212e7-adde-4fcb-eeb2-5a485d58a135"
      },
      "outputs": [
        {
          "name": "stdout",
          "output_type": "stream",
          "text": [
            "5 x 1 = 5\n",
            "5 x 2 = 10\n",
            "5 x 3 = 15\n",
            "5 x 4 = 20\n",
            "5 x 5 = 25\n",
            "5 x 6 = 30\n",
            "5 x 7 = 35\n",
            "5 x 8 = 40\n",
            "5 x 9 = 45\n",
            "5 x 10 = 50\n",
            "5 x 12 = 60\n"
          ]
        }
      ],
      "source": [
        "for i in range(12):\n",
        "    if(i==10):\n",
        "        continue #skip the current iteration only\n",
        "    print(\"5 x\",i+1,\"=\",5*(i+1))"
      ]
    },
    {
      "cell_type": "code",
      "execution_count": null,
      "id": "a2173f35",
      "metadata": {
        "id": "a2173f35"
      },
      "outputs": [],
      "source": [
        "for i in range(12):\n",
        "    if(i==10):\n",
        "        pass #Do Nothing - used to define code later"
      ]
    },
    {
      "cell_type": "markdown",
      "id": "be272ec8",
      "metadata": {
        "id": "be272ec8"
      },
      "source": [
        "# 20. Functions"
      ]
    },
    {
      "cell_type": "markdown",
      "id": "cb1062d3",
      "metadata": {
        "id": "cb1062d3"
      },
      "source": [
        "A function is a group of statements performing a specific task.\n",
        "When a program gets bigger in size and its complexity grows, it gets difficult for a programmer to keep track on which piece of code is doing what!\n",
        "A function can be reused by the programmer in a given program any number of time."
      ]
    },
    {
      "cell_type": "markdown",
      "id": "ae4cd45b",
      "metadata": {
        "id": "ae4cd45b"
      },
      "source": [
        "Two types of Function -\n",
        "1. Built in function\n",
        "2. User defined functions"
      ]
    },
    {
      "cell_type": "code",
      "execution_count": null,
      "id": "1916d8bf",
      "metadata": {
        "id": "1916d8bf",
        "outputId": "41ad515d-f403-4769-b148-2fee6e2f1447"
      },
      "outputs": [
        {
          "name": "stdout",
          "output_type": "stream",
          "text": [
            "5 is lesser or equal to 5\n"
          ]
        }
      ],
      "source": [
        "def isGreater(a,b):\n",
        "    if(a>b):\n",
        "        print(a,\"is greater than\",b)\n",
        "    else:\n",
        "        print(a,\"is lesser or equal to\",b)\n",
        "\n",
        "a = 5\n",
        "b = 5\n",
        "isGreater(a,b)"
      ]
    },
    {
      "cell_type": "code",
      "execution_count": null,
      "id": "35e25a16",
      "metadata": {
        "id": "35e25a16",
        "outputId": "a8aef1ab-8853-470b-caca-167c3469a7f1"
      },
      "outputs": [
        {
          "name": "stdout",
          "output_type": "stream",
          "text": [
            "0,1,1,2,3,5,8,"
          ]
        }
      ],
      "source": [
        "# Fibbonacci Sequence\n",
        "\n",
        "a,b = 0, 1\n",
        "while a < 10:\n",
        "    print(a, end=',')\n",
        "    a, b = b, a+b"
      ]
    },
    {
      "cell_type": "markdown",
      "id": "f745552d",
      "metadata": {
        "id": "f745552d"
      },
      "source": [
        "# 21. Function Arguments"
      ]
    },
    {
      "cell_type": "code",
      "execution_count": null,
      "id": "cadfbf18",
      "metadata": {
        "id": "cadfbf18",
        "outputId": "fd2b3ea0-ac13-4501-aa61-b910c44c2ecc"
      },
      "outputs": [
        {
          "name": "stdout",
          "output_type": "stream",
          "text": [
            "The average is  5.0\n"
          ]
        }
      ],
      "source": [
        "def avg(a=9, b=1):\n",
        "    print(\"The average is \",(a+b)/2)\n",
        "\n",
        "avg()"
      ]
    },
    {
      "cell_type": "code",
      "execution_count": null,
      "id": "bd9daa1f",
      "metadata": {
        "id": "bd9daa1f",
        "outputId": "d6fa4ea8-af2e-410a-ed74-66da9204beb2"
      },
      "outputs": [
        {
          "name": "stdout",
          "output_type": "stream",
          "text": [
            "The average is  7.5\n"
          ]
        }
      ],
      "source": [
        "avg(b=6)"
      ]
    },
    {
      "cell_type": "code",
      "execution_count": null,
      "id": "10ff6114",
      "metadata": {
        "id": "10ff6114",
        "outputId": "876af2b3-5e02-43a3-c40b-47f17ebdc8b6"
      },
      "outputs": [
        {
          "name": "stdout",
          "output_type": "stream",
          "text": [
            "Average is:  6.0\n"
          ]
        }
      ],
      "source": [
        "def average(*numbers):\n",
        "    sum = 0\n",
        "    for i in numbers:\n",
        "        sum += i\n",
        "    print(\"Average is: \", sum/len(numbers))\n",
        "\n",
        "average(5,6,7)"
      ]
    }
  ],
  "metadata": {
    "kernelspec": {
      "display_name": "Python 3",
      "language": "python",
      "name": "python3"
    },
    "language_info": {
      "codemirror_mode": {
        "name": "ipython",
        "version": 3
      },
      "file_extension": ".py",
      "mimetype": "text/x-python",
      "name": "python",
      "nbconvert_exporter": "python",
      "pygments_lexer": "ipython3",
      "version": "3.11.2"
    },
    "vscode": {
      "interpreter": {
        "hash": "5238573367df39f7286bb46f9ff5f08f63a01a80960060ce41e3c79b190280fa"
      }
    },
    "colab": {
      "provenance": [],
      "include_colab_link": true
    }
  },
  "nbformat": 4,
  "nbformat_minor": 5
}